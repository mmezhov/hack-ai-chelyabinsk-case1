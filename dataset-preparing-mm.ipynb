{
 "cells": [
  {
   "cell_type": "code",
   "execution_count": 1,
   "id": "4fb8b69a-8dca-434c-b1f6-602ea20bb5ff",
   "metadata": {},
   "outputs": [],
   "source": [
    "import pandas as pd\n",
    "import numpy as np\n",
    "import nltk\n",
    "import re\n",
    "\n",
    "from nltk.corpus import stopwords\n",
    "from pymystem3 import Mystem\n",
    "from string import punctuation"
   ]
  },
  {
   "cell_type": "code",
   "execution_count": 2,
   "id": "727ed1c3-70e3-4e66-8786-086eb1e37c76",
   "metadata": {},
   "outputs": [
    {
     "data": {
      "text/plain": [
       "'!\"#$%&\\'()*+,-./:;<=>?@[\\\\]^_`{|}~'"
      ]
     },
     "execution_count": 2,
     "metadata": {},
     "output_type": "execute_result"
    }
   ],
   "source": [
    "punctuation"
   ]
  },
  {
   "cell_type": "code",
   "execution_count": 3,
   "id": "5ec933c5-9d75-4990-9b1c-e221cdac37ef",
   "metadata": {},
   "outputs": [
    {
     "data": {
      "text/plain": [
       "'!\"#$%&\\'()*+,-./:;<=>?@[\\\\]^_`{|}~№®'"
      ]
     },
     "execution_count": 3,
     "metadata": {},
     "output_type": "execute_result"
    }
   ],
   "source": [
    "punctuation += '№'\n",
    "punctuation += '®'\n",
    "punctuation"
   ]
  },
  {
   "cell_type": "code",
   "execution_count": 4,
   "id": "33a08f4e-eb95-4964-8005-35254e855268",
   "metadata": {},
   "outputs": [
    {
     "name": "stderr",
     "output_type": "stream",
     "text": [
      "[nltk_data] Downloading package stopwords to\n",
      "[nltk_data]     /Users/maximmezhov/nltk_data...\n",
      "[nltk_data]   Package stopwords is already up-to-date!\n"
     ]
    },
    {
     "data": {
      "text/plain": [
       "True"
      ]
     },
     "execution_count": 4,
     "metadata": {},
     "output_type": "execute_result"
    }
   ],
   "source": [
    "nltk.download(\"stopwords\")"
   ]
  },
  {
   "cell_type": "code",
   "execution_count": 5,
   "id": "48ed683b-744b-4497-aa6e-150940c1fbcc",
   "metadata": {},
   "outputs": [],
   "source": [
    "custom_top_words = ['мл','мг','шт','ooo','ру','лп','н','xch','bky','уп','%','п','изм','нд','p','р','n','\\n','b','e','е','г','упаковка','пачка','серия','партия','рег','лср',\n",
    "                    'pul',':','инвойс','rus','вэд','+','rg','g','ltd','d','c','д','кг','-','tyd','дата','оао','ао','зао','ип','инн','лс','код','окпд','россия','ул','область']\n",
    "numbers = [i for i in range(10)]\n",
    "numbers = list(map(str, numbers))"
   ]
  },
  {
   "cell_type": "code",
   "execution_count": 6,
   "id": "0e25c834-2504-4dc1-aafc-87e4f8cea2da",
   "metadata": {},
   "outputs": [],
   "source": [
    "mystem = Mystem() \n",
    "russian_stopwords = stopwords.words(\"russian\")\n",
    "eng_stopwords = stopwords.words(\"english\")"
   ]
  },
  {
   "cell_type": "code",
   "execution_count": 7,
   "id": "8c233a2a-3678-46dd-a176-fd960450902e",
   "metadata": {},
   "outputs": [
    {
     "data": {
      "text/html": [
       "<div>\n",
       "<style scoped>\n",
       "    .dataframe tbody tr th:only-of-type {\n",
       "        vertical-align: middle;\n",
       "    }\n",
       "\n",
       "    .dataframe tbody tr th {\n",
       "        vertical-align: top;\n",
       "    }\n",
       "\n",
       "    .dataframe thead th {\n",
       "        text-align: right;\n",
       "    }\n",
       "</style>\n",
       "<table border=\"1\" class=\"dataframe\">\n",
       "  <thead>\n",
       "    <tr style=\"text-align: right;\">\n",
       "      <th></th>\n",
       "      <th>id</th>\n",
       "      <th>Общее наименование продукции</th>\n",
       "      <th>Раздел ЕП РФ (Код из ФГИС ФСА для подкатегории продукции)</th>\n",
       "      <th>Подкатегория продукции</th>\n",
       "    </tr>\n",
       "  </thead>\n",
       "  <tbody>\n",
       "    <tr>\n",
       "      <th>0</th>\n",
       "      <td>1</td>\n",
       "      <td>Парацетамол таблетки 500 мг 10 шт., упаковки я...</td>\n",
       "      <td>9300.1</td>\n",
       "      <td>Лекарственные средства, зарегистрированные в у...</td>\n",
       "    </tr>\n",
       "    <tr>\n",
       "      <th>1</th>\n",
       "      <td>2</td>\n",
       "      <td>Перезаряжаемая литий-ионная батарея торговой м...</td>\n",
       "      <td>3482.2</td>\n",
       "      <td>Аккумуляторы и аккумуляторные батареи никель-м...</td>\n",
       "    </tr>\n",
       "    <tr>\n",
       "      <th>2</th>\n",
       "      <td>3</td>\n",
       "      <td>Перезаряжаемая литий-ионная батарея торговой м...</td>\n",
       "      <td>3482.2</td>\n",
       "      <td>Аккумуляторы и аккумуляторные батареи никель-м...</td>\n",
       "    </tr>\n",
       "    <tr>\n",
       "      <th>3</th>\n",
       "      <td>4</td>\n",
       "      <td>Аппарат вакуумно-лазерной терапии стоматологич...</td>\n",
       "      <td>9444.4</td>\n",
       "      <td>Приборы и аппараты для электролечения высокоча...</td>\n",
       "    </tr>\n",
       "    <tr>\n",
       "      <th>4</th>\n",
       "      <td>5</td>\n",
       "      <td>Блоки оконные и балконные дверные из алюминиев...</td>\n",
       "      <td>5270.1</td>\n",
       "      <td>Блоки оконные и балконные дверные из алюминиев...</td>\n",
       "    </tr>\n",
       "  </tbody>\n",
       "</table>\n",
       "</div>"
      ],
      "text/plain": [
       "   id                       Общее наименование продукции  \\\n",
       "0   1  Парацетамол таблетки 500 мг 10 шт., упаковки я...   \n",
       "1   2  Перезаряжаемая литий-ионная батарея торговой м...   \n",
       "2   3  Перезаряжаемая литий-ионная батарея торговой м...   \n",
       "3   4  Аппарат вакуумно-лазерной терапии стоматологич...   \n",
       "4   5  Блоки оконные и балконные дверные из алюминиев...   \n",
       "\n",
       "  Раздел ЕП РФ (Код из ФГИС ФСА для подкатегории продукции)  \\\n",
       "0                                             9300.1          \n",
       "1                                             3482.2          \n",
       "2                                             3482.2          \n",
       "3                                             9444.4          \n",
       "4                                             5270.1          \n",
       "\n",
       "                              Подкатегория продукции  \n",
       "0  Лекарственные средства, зарегистрированные в у...  \n",
       "1  Аккумуляторы и аккумуляторные батареи никель-м...  \n",
       "2  Аккумуляторы и аккумуляторные батареи никель-м...  \n",
       "3  Приборы и аппараты для электролечения высокоча...  \n",
       "4  Блоки оконные и балконные дверные из алюминиев...  "
      ]
     },
     "execution_count": 7,
     "metadata": {},
     "output_type": "execute_result"
    }
   ],
   "source": [
    "data = pd.read_excel('data/raw/Реестр 327 тыс. деклараций ЕП РФ без 140000-200000.xlsx', engine='openpyxl')\n",
    "data.head()"
   ]
  },
  {
   "cell_type": "code",
   "execution_count": 8,
   "id": "ae755fd2-0efe-4fc3-bef7-edcb36b0c6a3",
   "metadata": {},
   "outputs": [],
   "source": [
    "def return_right_code(codes):\n",
    "    \"\"\"\n",
    "    codes - строка нескольких кодов (тип list)\n",
    "    \"\"\"\n",
    "    arr = np.array(codes.split('; '), dtype=np.float)\n",
    "    arr2 = np.array(list(map(int, arr)))\n",
    "    \n",
    "    if sum(arr2/arr2.min()) == arr.shape:\n",
    "        \"\"\"\n",
    "        если коды одной группы, то берём максимальное значение подгруппы\n",
    "        \"\"\"\n",
    "        code = arr.max()\n",
    "    else:\n",
    "        \"\"\"\n",
    "        коды разной группы, возвращаем 0\n",
    "        \"\"\"\n",
    "        code = 0\n",
    "\n",
    "    return code\n",
    "    \n",
    "    \n",
    "def preprocess_text(text):\n",
    "    \"\"\"\n",
    "    Очистка и лемматизация текста\n",
    "    Присутствует специфика данных\n",
    "    \"\"\"\n",
    "    tokens = mystem.lemmatize(text.lower())\n",
    "    \n",
    "    text = [re.sub('[0-9][а-я]|\\d+', '*', token) for token in tokens if (token.strip() not in russian_stopwords) & \\\n",
    "            (token.strip() not in eng_stopwords) & \\\n",
    "            (token.strip() not in punctuation) & \\\n",
    "            (token.strip() not in numbers) & \\\n",
    "            (token.strip() not in custom_top_words) & \\\n",
    "            (token != ' ')]\n",
    "    if '*' in text:\n",
    "        text.remove('*')\n",
    "        \n",
    "    text = ' '.join(text)\n",
    "    \n",
    "    text = text.replace('*', '')\n",
    "    text = text.replace('®', '')\n",
    "    text = text.replace('№', '')\n",
    "    text = text.replace(')', '')\n",
    "    text = text.replace('(', '')\n",
    "    text = text.replace('.', '')\n",
    "    text = text.replace('\"', '')\n",
    "    text = text.replace('\\n', '')\n",
    "    text = text.replace('«', '')\n",
    "    text = text.replace('»', '')\n",
    "    text = text.replace(',,', '')\n",
    "    text = text.replace(',', '')\n",
    "    text = text.replace('окпд', '')\n",
    "    text = text.replace('ooo', '')  # eng\n",
    "    text = text.replace('ооо', '')  # rus\n",
    "    text = text.split(' ')\n",
    "    text = ' '.join([x for x in text if x not in ['']])\n",
    "    \n",
    "        \n",
    "    return text\n",
    "\n",
    "\n",
    "def preprocessing_raw_data(data):\n",
    "    \"\"\"\n",
    "    Предобработка превоначального набора данных\n",
    "    \"\"\"\n",
    "    df = data.copy()\n",
    "    df.drop(columns=['id','Подкатегория продукции'], inplace=True, axis=1)\n",
    "    df.rename({'Общее наименование продукции':'description', 'Раздел ЕП РФ (Код из ФГИС ФСА для подкатегории продукции)':'code'}, axis=1, inplace=True)\n",
    "    \n",
    "    \"\"\"\n",
    "    преобразование кодов:\n",
    "    - если есть категория и подкатегория - оставляем подкатегорию (так понял эксперта на чек-поинте)\n",
    "    - если есть несколько категорий/подкатегорий, которые отличаются своей основной категорией - принимаем за махинацию, \n",
    "                                                                                                 отбираем в отдельный массиив для ручного реагирования, \n",
    "                                                                                                 в обучающую выборку не берём\n",
    "    \"\"\"\n",
    "    df['processed-code'] = df['code'].apply(return_right_code)\n",
    "    df.drop(index=df[df['processed-code'] == 0].index, inplace=True)\n",
    "    \n",
    "    df.code = df['processed-code']\n",
    "    df.drop('processed-code', axis=1, inplace=True)\n",
    "    \n",
    "    \n",
    "    \"\"\"\n",
    "    предобработка текста\n",
    "    \"\"\"\n",
    "    df['clear-description'] = df['description'].apply(preprocess_text)\n",
    "    \n",
    "    \n",
    "    return df[['clear-description','code','description']]"
   ]
  },
  {
   "cell_type": "code",
   "execution_count": 231,
   "id": "835ca3e8-9144-43ae-a992-a6ade3a21469",
   "metadata": {},
   "outputs": [
    {
     "name": "stdout",
     "output_type": "stream",
     "text": [
      "CPU times: user 20 ms, sys: 2.81 ms, total: 22.8 ms\n",
      "Wall time: 40.4 ms\n"
     ]
    },
    {
     "data": {
      "text/html": [
       "<div>\n",
       "<style scoped>\n",
       "    .dataframe tbody tr th:only-of-type {\n",
       "        vertical-align: middle;\n",
       "    }\n",
       "\n",
       "    .dataframe tbody tr th {\n",
       "        vertical-align: top;\n",
       "    }\n",
       "\n",
       "    .dataframe thead th {\n",
       "        text-align: right;\n",
       "    }\n",
       "</style>\n",
       "<table border=\"1\" class=\"dataframe\">\n",
       "  <thead>\n",
       "    <tr style=\"text-align: right;\">\n",
       "      <th></th>\n",
       "      <th>clear-description</th>\n",
       "      <th>code</th>\n",
       "      <th>description</th>\n",
       "    </tr>\n",
       "  </thead>\n",
       "  <tbody>\n",
       "    <tr>\n",
       "      <th>0</th>\n",
       "      <td>парацетамол таблетка ячейковый контурный карто...</td>\n",
       "      <td>9300.1</td>\n",
       "      <td>Парацетамол таблетки 500 мг 10 шт., упаковки я...</td>\n",
       "    </tr>\n",
       "    <tr>\n",
       "      <th>1</th>\n",
       "      <td>перезаряжать литий ионный батарея торговый мар...</td>\n",
       "      <td>3482.2</td>\n",
       "      <td>Перезаряжаемая литий-ионная батарея торговой м...</td>\n",
       "    </tr>\n",
       "    <tr>\n",
       "      <th>2</th>\n",
       "      <td>перезаряжать литий ионный батарея торговый мар...</td>\n",
       "      <td>3482.2</td>\n",
       "      <td>Перезаряжаемая литий-ионная батарея торговой м...</td>\n",
       "    </tr>\n",
       "    <tr>\n",
       "      <th>3</th>\n",
       "      <td>аппарат вакуумный лазерный терапия стоматологи...</td>\n",
       "      <td>9444.4</td>\n",
       "      <td>Аппарат вакуумно-лазерной терапии стоматологич...</td>\n",
       "    </tr>\n",
       "    <tr>\n",
       "      <th>4</th>\n",
       "      <td>блок оконный балконный дверной алюминиевый про...</td>\n",
       "      <td>5270.1</td>\n",
       "      <td>Блоки оконные и балконные дверные из алюминиев...</td>\n",
       "    </tr>\n",
       "  </tbody>\n",
       "</table>\n",
       "</div>"
      ],
      "text/plain": [
       "                                   clear-description    code  \\\n",
       "0  парацетамол таблетка ячейковый контурный карто...  9300.1   \n",
       "1  перезаряжать литий ионный батарея торговый мар...  3482.2   \n",
       "2  перезаряжать литий ионный батарея торговый мар...  3482.2   \n",
       "3  аппарат вакуумный лазерный терапия стоматологи...  9444.4   \n",
       "4  блок оконный балконный дверной алюминиевый про...  5270.1   \n",
       "\n",
       "                                         description  \n",
       "0  Парацетамол таблетки 500 мг 10 шт., упаковки я...  \n",
       "1  Перезаряжаемая литий-ионная батарея торговой м...  \n",
       "2  Перезаряжаемая литий-ионная батарея торговой м...  \n",
       "3  Аппарат вакуумно-лазерной терапии стоматологич...  \n",
       "4  Блоки оконные и балконные дверные из алюминиев...  "
      ]
     },
     "execution_count": 231,
     "metadata": {},
     "output_type": "execute_result"
    }
   ],
   "source": [
    "%%time\n",
    "df = preprocessing_raw_data(data.iloc[:30,:])\n",
    "df.to_csv('data/processed/test.csv',index=False)\n",
    "df.head()"
   ]
  },
  {
   "cell_type": "code",
   "execution_count": 232,
   "id": "b4d866ce-d229-4fbe-b50d-8156b19bf4c5",
   "metadata": {},
   "outputs": [
    {
     "data": {
      "text/plain": [
       "'парацетамол таблетка ячейковый контурный картонный годный производство фармстандарт лексредство курская курск агрегатный'"
      ]
     },
     "execution_count": 232,
     "metadata": {},
     "output_type": "execute_result"
    }
   ],
   "source": [
    "df.loc[0,'clear-description']"
   ]
  },
  {
   "cell_type": "code",
   "execution_count": 9,
   "id": "aacddd86-6bc0-44ca-800b-99413dfe9b0a",
   "metadata": {},
   "outputs": [],
   "source": [
    "df = preprocessing_raw_data(data)\n",
    "df.to_csv('data/processed/precessed-dataframe.csv', index=False)"
   ]
  },
  {
   "cell_type": "code",
   "execution_count": null,
   "id": "8871b91d-e528-4ecf-b61e-c96a5000bca1",
   "metadata": {},
   "outputs": [],
   "source": [
    "!python3 data-preprocessing.py"
   ]
  },
  {
   "cell_type": "code",
   "execution_count": null,
   "id": "70184b72-7d23-4ea7-8424-dcd5ac20863a",
   "metadata": {},
   "outputs": [],
   "source": []
  },
  {
   "cell_type": "code",
   "execution_count": null,
   "id": "c761dccf-f56c-4b48-8f2c-dc04a970caa9",
   "metadata": {},
   "outputs": [
    {
     "data": {
      "text/plain": [
       "((267684, 4), (267588, 2))"
      ]
     },
     "execution_count": 121,
     "metadata": {},
     "output_type": "execute_result"
    }
   ],
   "source": [
    "data.shape, df.shape"
   ]
  },
  {
   "cell_type": "code",
   "execution_count": 122,
   "id": "e5ab86e6-d9c9-440f-b52c-6f98f3b44bbb",
   "metadata": {},
   "outputs": [
    {
     "data": {
      "text/plain": [
       "9300.1    157928\n",
       "2364.1     10799\n",
       "3482.2      4654\n",
       "5990.1      3802\n",
       "9392.1      3698\n",
       "           ...  \n",
       "9435.0         1\n",
       "9434.0         1\n",
       "2322.1         1\n",
       "2553.0         1\n",
       "3454.6         1\n",
       "Name: code, Length: 396, dtype: int64"
      ]
     },
     "execution_count": 122,
     "metadata": {},
     "output_type": "execute_result"
    }
   ],
   "source": [
    "df['code'].value_counts()"
   ]
  },
  {
   "cell_type": "code",
   "execution_count": 103,
   "id": "c2e60604-3662-47b6-8005-120afa5095cb",
   "metadata": {},
   "outputs": [
    {
     "data": {
      "text/plain": [
       "['2386.1; 9392.2',\n",
       " '2386.1; 9392.2',\n",
       " '2293.2; 5463.8',\n",
       " '9444.10; 9398.5',\n",
       " '3482.1; 3483.1',\n",
       " '9436.1; 2545.2',\n",
       " '5463.8; 2381.2',\n",
       " '9433.3; 9433.2; 9433.1; 9432.1; 9433.5; 9435.1; 9434.1',\n",
       " '5970.1; 2293.3',\n",
       " '3414.16; 3412.1',\n",
       " '2293.3; 5970.1',\n",
       " '5990.1; 1482.1',\n",
       " '1482.1; 1483.1',\n",
       " '2386.3; 9392.1',\n",
       " '2293.5; 1482.1',\n",
       " '9434.1; 9433.1; 9435.1',\n",
       " '9432.1; 2514.5; 9433.1; 5463.8',\n",
       " '2293; 2380.1',\n",
       " '9398.2; 9436.1',\n",
       " '2440.1; 2387.1',\n",
       " '2440.1; 2387.1',\n",
       " '2387.1; 2440.1',\n",
       " '2387.1; 2440.1',\n",
       " '2440.1; 2387.1',\n",
       " '2387.1; 2440.1',\n",
       " '9437.1; 9396.1',\n",
       " '1483.1; 1482.1',\n",
       " '2440.1; 2387.1',\n",
       " '2387.1; 2440.1',\n",
       " '1482.1; 1483.1',\n",
       " '9439.1; 9431.1',\n",
       " '9391.1; 9450.7',\n",
       " '9296.5; 9146.1',\n",
       " '9146.1; 9296.5',\n",
       " '9451.1; 9450.3',\n",
       " '1483.1; 1482.1',\n",
       " '3482.2; 3481.1',\n",
       " '3483.1; 2293.1',\n",
       " '1483.1; 1482.1',\n",
       " '9396.9; 9432.1',\n",
       " '9436.1; 9441.4',\n",
       " '9441.4; 9436.1',\n",
       " '1482.1; 1483.1',\n",
       " '2293; 1482',\n",
       " '1481.1; 5982.1; 1482.1',\n",
       " '9393.1; 9439',\n",
       " '9437.1; 9436.1',\n",
       " '9290.1; 9296.3',\n",
       " '3414.14; 9441.11',\n",
       " '1482.1; 5982.2',\n",
       " '9695.1; 1996.1',\n",
       " '5970.1; 5982.1',\n",
       " '1482.1; 1483.1',\n",
       " '5982.2; 5970.1',\n",
       " '5500.6; 5460.1',\n",
       " '1483.1; 9697.2',\n",
       " '9450.4; 9441.11; 9398.4',\n",
       " '2557.1; 2553.1',\n",
       " '1482.1; 2293.5',\n",
       " '2386.3; 9392.1',\n",
       " '2180.1; 1483.1',\n",
       " '9441.11; 9437.1; 9442.4',\n",
       " '3483.1; 3482.2',\n",
       " '9296; 9750.1',\n",
       " '1481.1; 1996.1',\n",
       " '9697.2; 2293.1',\n",
       " '9219.1; 9296.9',\n",
       " '3483.1; 3482.2',\n",
       " '9290.1; 9291.2',\n",
       " '3414.10; 2293.1',\n",
       " '1996.1; 5990.1; 2293.5',\n",
       " '1482.1; 5990.1',\n",
       " '9392.1; 2386.3',\n",
       " '1481.1; 1991.2; 1482.1',\n",
       " '2293.1; 1483.1',\n",
       " '2293.1; 1483.1',\n",
       " '1483.1; 2293.1',\n",
       " '9219.1; 2381.1',\n",
       " '9180.1; 9295.1',\n",
       " '1482.1; 1483.1',\n",
       " '3482.2; 9450',\n",
       " '5970.1; 1482.1',\n",
       " '1483.1; 1482.1',\n",
       " '2557.1; 2553.1',\n",
       " '9392.3; 2380.1',\n",
       " '9392.2; 2386.1',\n",
       " '1483.1; 1482.1',\n",
       " '2293.7; 5970.1',\n",
       " '9296.8; 9295.1',\n",
       " '1483.1; 1482.1',\n",
       " '1482.1; 1483.1',\n",
       " '9692.1; 9219.1',\n",
       " '1482.1; 9695.2',\n",
       " '1482.1; 1483.1',\n",
       " '2553.1; 2557.1',\n",
       " '1483.1; 1482.1']"
      ]
     },
     "execution_count": 103,
     "metadata": {},
     "output_type": "execute_result"
    }
   ],
   "source": [
    "# df.loc[df['processed-code'] == 0, 'code'].tolist()"
   ]
  },
  {
   "cell_type": "code",
   "execution_count": 106,
   "id": "05d0e57e-63de-45e6-9ad5-d35f563d7b22",
   "metadata": {},
   "outputs": [],
   "source": [
    "# df[df['processed-code'] == 0].drop('processed-code', axis=1).to_csv('frod-docs.csv', index=False)"
   ]
  },
  {
   "cell_type": "code",
   "execution_count": null,
   "id": "0d5adb98-59f7-4d43-8c8b-56f0226be5e2",
   "metadata": {},
   "outputs": [],
   "source": []
  }
 ],
 "metadata": {
  "kernelspec": {
   "display_name": "Python 3.9.7 64-bit ('base': conda)",
   "language": "python",
   "name": "python397jvsc74a57bd0c6e4e9f98eb68ad3b7c296f83d20e6de614cb42e90992a65aa266555a3137d0d"
  },
  "language_info": {
   "codemirror_mode": {
    "name": "ipython",
    "version": 3
   },
   "file_extension": ".py",
   "mimetype": "text/x-python",
   "name": "python",
   "nbconvert_exporter": "python",
   "pygments_lexer": "ipython3",
   "version": "3.9.7"
  }
 },
 "nbformat": 4,
 "nbformat_minor": 5
}
