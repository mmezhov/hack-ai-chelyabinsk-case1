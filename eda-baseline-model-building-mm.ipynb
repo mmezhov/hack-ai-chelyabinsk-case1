{
 "cells": [
  {
   "cell_type": "markdown",
   "id": "9c49178d-8157-4853-8843-21aa5c38bb63",
   "metadata": {},
   "source": [
    "# План:\n",
    "- оценить баланс классов по кодам\n",
    "- на базовой модели найти порог необходимого и достаточного количества примеров по одному заказу\n",
    "- подготовить три датасета с помощью разных методов векторизации текста\n",
    "- оценить работу разных алгоритмов на разных датасетов, выбрать решение с наилучшей метрикой\n",
    "- провести базовый поиск гиперпараметров для отобранного решения"
   ]
  },
  {
   "cell_type": "markdown",
   "id": "303fa5ff-88d3-4056-8f3c-865caeec13dd",
   "metadata": {},
   "source": [
    "# Libs"
   ]
  },
  {
   "cell_type": "code",
   "execution_count": 17,
   "id": "0b7727ec-374e-4cde-9c60-b782d810958e",
   "metadata": {},
   "outputs": [],
   "source": [
    "import pandas as pd\n",
    "import matplotlib.pyplot as plt\n",
    "import gc\n",
    "import numpy as np\n",
    "import pickle \n",
    "\n",
    "from sklearn.model_selection import cross_val_score, StratifiedKFold\n",
    "from sklearn.metrics import f1_score\n",
    "from sklearn.feature_extraction.text import TfidfVectorizer, CountVectorizer\n",
    "\n",
    "from tqdm import tqdm\n",
    "\n",
    "# models\n",
    "from sklearn.linear_model import RidgeClassifier, LogisticRegression\n",
    "from sklearn.svm import LinearSVC\n",
    "from lightgbm import LGBMClassifier\n",
    "from sklearn.ensemble import ExtraTreesClassifier, RandomForestClassifier, GradientBoostingClassifier\n",
    "from sklearn.neighbors import KNeighborsClassifier\n",
    "from sklearn.neural_network import MLPClassifier"
   ]
  },
  {
   "cell_type": "code",
   "execution_count": null,
   "id": "65b24e7c-a06b-468b-b187-efa662755572",
   "metadata": {},
   "outputs": [
    {
     "name": "stdout",
     "output_type": "stream",
     "text": [
      "[nltk_data] Downloading package stopwords to\n",
      "[nltk_data]     /Users/maximmezhov/nltk_data...\n",
      "[nltk_data]   Package stopwords is already up-to-date!\n"
     ]
    }
   ],
   "source": [
    "# %%time\n",
    "# !python3 data-preprocessing.py"
   ]
  },
  {
   "cell_type": "markdown",
   "id": "4f4233f3-cd3d-4d0f-83b9-08ea17570281",
   "metadata": {},
   "source": [
    "# Предварительный анализ баланса классов"
   ]
  },
  {
   "cell_type": "code",
   "execution_count": 2,
   "id": "2e102d67-7cb2-4743-a449-29eb835bdeef",
   "metadata": {},
   "outputs": [
    {
     "name": "stdout",
     "output_type": "stream",
     "text": [
      "<class 'pandas.core.frame.DataFrame'>\n",
      "RangeIndex: 267588 entries, 0 to 267587\n",
      "Data columns (total 3 columns):\n",
      " #   Column             Non-Null Count   Dtype  \n",
      "---  ------             --------------   -----  \n",
      " 0   clear-description  267583 non-null  object \n",
      " 1   code               267588 non-null  float64\n",
      " 2   description        267588 non-null  object \n",
      "dtypes: float64(1), object(2)\n",
      "memory usage: 6.1+ MB\n"
     ]
    }
   ],
   "source": [
    "data = pd.read_csv('data/processed/processed-dataframe.csv')\n",
    "data.info()"
   ]
  },
  {
   "cell_type": "code",
   "execution_count": 3,
   "id": "fc297b8b-efbd-45fd-9c1e-d4f9f3b214c9",
   "metadata": {},
   "outputs": [
    {
     "data": {
      "text/html": [
       "<div>\n",
       "<style scoped>\n",
       "    .dataframe tbody tr th:only-of-type {\n",
       "        vertical-align: middle;\n",
       "    }\n",
       "\n",
       "    .dataframe tbody tr th {\n",
       "        vertical-align: top;\n",
       "    }\n",
       "\n",
       "    .dataframe thead th {\n",
       "        text-align: right;\n",
       "    }\n",
       "</style>\n",
       "<table border=\"1\" class=\"dataframe\">\n",
       "  <thead>\n",
       "    <tr style=\"text-align: right;\">\n",
       "      <th></th>\n",
       "      <th>clear-description</th>\n",
       "      <th>code</th>\n",
       "      <th>description</th>\n",
       "    </tr>\n",
       "  </thead>\n",
       "  <tbody>\n",
       "    <tr>\n",
       "      <th>0</th>\n",
       "      <td>парацетамол таблетка ячейковый контурный карто...</td>\n",
       "      <td>9300.1</td>\n",
       "      <td>Парацетамол таблетки 500 мг 10 шт., упаковки я...</td>\n",
       "    </tr>\n",
       "    <tr>\n",
       "      <th>1</th>\n",
       "      <td>перезаряжать литий ионный батарея торговый мар...</td>\n",
       "      <td>3482.2</td>\n",
       "      <td>Перезаряжаемая литий-ионная батарея торговой м...</td>\n",
       "    </tr>\n",
       "    <tr>\n",
       "      <th>2</th>\n",
       "      <td>перезаряжать литий ионный батарея торговый мар...</td>\n",
       "      <td>3482.2</td>\n",
       "      <td>Перезаряжаемая литий-ионная батарея торговой м...</td>\n",
       "    </tr>\n",
       "    <tr>\n",
       "      <th>3</th>\n",
       "      <td>аппарат вакуумный лазерный терапия стоматологи...</td>\n",
       "      <td>9444.4</td>\n",
       "      <td>Аппарат вакуумно-лазерной терапии стоматологич...</td>\n",
       "    </tr>\n",
       "    <tr>\n",
       "      <th>4</th>\n",
       "      <td>блок оконный балконный дверной алюминиевый про...</td>\n",
       "      <td>5270.1</td>\n",
       "      <td>Блоки оконные и балконные дверные из алюминиев...</td>\n",
       "    </tr>\n",
       "  </tbody>\n",
       "</table>\n",
       "</div>"
      ],
      "text/plain": [
       "                                   clear-description    code  \\\n",
       "0  парацетамол таблетка ячейковый контурный карто...  9300.1   \n",
       "1  перезаряжать литий ионный батарея торговый мар...  3482.2   \n",
       "2  перезаряжать литий ионный батарея торговый мар...  3482.2   \n",
       "3  аппарат вакуумный лазерный терапия стоматологи...  9444.4   \n",
       "4  блок оконный балконный дверной алюминиевый про...  5270.1   \n",
       "\n",
       "                                         description  \n",
       "0  Парацетамол таблетки 500 мг 10 шт., упаковки я...  \n",
       "1  Перезаряжаемая литий-ионная батарея торговой м...  \n",
       "2  Перезаряжаемая литий-ионная батарея торговой м...  \n",
       "3  Аппарат вакуумно-лазерной терапии стоматологич...  \n",
       "4  Блоки оконные и балконные дверные из алюминиев...  "
      ]
     },
     "execution_count": 3,
     "metadata": {},
     "output_type": "execute_result"
    }
   ],
   "source": [
    "data.head()"
   ]
  },
  {
   "cell_type": "code",
   "execution_count": 4,
   "id": "4402f2c7-4d8e-4770-89eb-767329be896b",
   "metadata": {},
   "outputs": [
    {
     "data": {
      "text/plain": [
       "clear-description     object\n",
       "code                 float64\n",
       "description           object\n",
       "target                 int64\n",
       "dtype: object"
      ]
     },
     "execution_count": 4,
     "metadata": {},
     "output_type": "execute_result"
    }
   ],
   "source": [
    "# добавим столбец, который из float типа сделам int - это будет целевая переменная\n",
    "data['target'] = data.code * 10\n",
    "data.target = data.target.astype(int)\n",
    "data.dtypes"
   ]
  },
  {
   "cell_type": "code",
   "execution_count": 5,
   "id": "9556a9c2-0d69-403c-accd-5c218576e558",
   "metadata": {},
   "outputs": [
    {
     "data": {
      "image/png": "[encoded data removed]",
      "text/plain": [
       "<Figure size 2160x720 with 1 Axes>"
      ]
     },
     "metadata": {
      "needs_background": "light"
     },
     "output_type": "display_data"
    }
   ],
   "source": [
    "fig = plt.subplots(figsize=(30,10))\n",
    "data.target.value_counts().plot(kind='bar');"
   ]
  },
  {
   "cell_type": "markdown",
   "id": "acfd76d5-ea9b-40a6-8736-5c6e3f3dd43f",
   "metadata": {},
   "source": [
    "> видим сильный дисбаланс классов"
   ]
  },
  {
   "cell_type": "code",
   "execution_count": 6,
   "id": "c052f35a-d0cb-407e-ab79-27317b3bc430",
   "metadata": {},
   "outputs": [
    {
     "data": {
      "image/png": "[encoded data removed]",
      "text/plain": [
       "<Figure size 1440x360 with 1 Axes>"
      ]
     },
     "metadata": {
      "needs_background": "light"
     },
     "output_type": "display_data"
    }
   ],
   "source": [
    "fig = plt.subplots(figsize=(20,5))\n",
    "data.target.value_counts()[:100].plot(kind='bar');"
   ]
  },
  {
   "cell_type": "markdown",
   "id": "20211b16-830e-4647-aa66-92d48740bb74",
   "metadata": {},
   "source": [
    "> более всех представлен код 9300.1"
   ]
  },
  {
   "cell_type": "code",
   "execution_count": 7,
   "id": "34f62215-c34a-402c-9dbd-69a34387926b",
   "metadata": {},
   "outputs": [
    {
     "data": {
      "image/png": "[encoded data removed]",
      "text/plain": [
       "<Figure size 1440x360 with 1 Axes>"
      ]
     },
     "metadata": {
      "needs_background": "light"
     },
     "output_type": "display_data"
    }
   ],
   "source": [
    "fig = plt.subplots(figsize=(20,5))\n",
    "data.target.value_counts()[1:100].plot(kind='bar');"
   ]
  },
  {
   "cell_type": "code",
   "execution_count": 8,
   "id": "0439bc1c-c56b-4059-8af9-277ed24cc190",
   "metadata": {},
   "outputs": [
    {
     "data": {
      "image/png": "[encoded data removed]",
      "text/plain": [
       "<Figure size 1440x360 with 1 Axes>"
      ]
     },
     "metadata": {
      "needs_background": "light"
     },
     "output_type": "display_data"
    }
   ],
   "source": [
    "fig = plt.subplots(figsize=(20,5))\n",
    "data.target.value_counts()[1:].plot(kind='bar');"
   ]
  },
  {
   "cell_type": "code",
   "execution_count": 9,
   "id": "7ca7c2fc-22c3-4e32-b1fa-40d9d0a10ed0",
   "metadata": {},
   "outputs": [
    {
     "data": {
      "image/png": "[encoded data removed]",
      "text/plain": [
       "<Figure size 1440x360 with 1 Axes>"
      ]
     },
     "metadata": {
      "needs_background": "light"
     },
     "output_type": "display_data"
    }
   ],
   "source": [
    "fig = plt.subplots(figsize=(20,5))\n",
    "data.target.value_counts()[2:].plot(kind='bar');"
   ]
  },
  {
   "cell_type": "code",
   "execution_count": 10,
   "id": "5920416f-fc4a-4c50-b1fd-3585c135916e",
   "metadata": {},
   "outputs": [
    {
     "data": {
      "image/png": "[encoded data removed]",
      "text/plain": [
       "<Figure size 1440x360 with 1 Axes>"
      ]
     },
     "metadata": {
      "needs_background": "light"
     },
     "output_type": "display_data"
    }
   ],
   "source": [
    "fig = plt.subplots(figsize=(20,5))\n",
    "data.target.value_counts()[2:100].plot(kind='bar');"
   ]
  },
  {
   "cell_type": "markdown",
   "id": "8a278d51-afc3-4d5e-8cb0-67e378ecc39a",
   "metadata": {},
   "source": [
    "> как минимум по двум кодам: 9300.1 и 2364.1 сильный дисбаланс относительно количества остальных кодов с всязи с этим будет разумным применить для оценки моделей метрику f1_weighted, чтобы иметь адекватную оценку качества по всем классам"
   ]
  },
  {
   "cell_type": "markdown",
   "id": "05e99d2f-22d0-4f43-801f-6056f1e34345",
   "metadata": {},
   "source": [
    "проверка на пропуски и дубликаты:"
   ]
  },
  {
   "cell_type": "code",
   "execution_count": 5,
   "id": "15bfd5fd-26f1-4b08-ba3a-1c6bb59fe671",
   "metadata": {},
   "outputs": [
    {
     "data": {
      "text/plain": [
       "clear-description    5\n",
       "code                 0\n",
       "description          0\n",
       "target               0\n",
       "dtype: int64"
      ]
     },
     "execution_count": 5,
     "metadata": {},
     "output_type": "execute_result"
    }
   ],
   "source": [
    "data.isna().sum()"
   ]
  },
  {
   "cell_type": "code",
   "execution_count": 6,
   "id": "2544a47b-7e0a-44e3-931e-879a419fc0d7",
   "metadata": {},
   "outputs": [
    {
     "data": {
      "text/html": [
       "<div>\n",
       "<style scoped>\n",
       "    .dataframe tbody tr th:only-of-type {\n",
       "        vertical-align: middle;\n",
       "    }\n",
       "\n",
       "    .dataframe tbody tr th {\n",
       "        vertical-align: top;\n",
       "    }\n",
       "\n",
       "    .dataframe thead th {\n",
       "        text-align: right;\n",
       "    }\n",
       "</style>\n",
       "<table border=\"1\" class=\"dataframe\">\n",
       "  <thead>\n",
       "    <tr style=\"text-align: right;\">\n",
       "      <th></th>\n",
       "      <th>clear-description</th>\n",
       "      <th>code</th>\n",
       "      <th>description</th>\n",
       "      <th>target</th>\n",
       "    </tr>\n",
       "  </thead>\n",
       "  <tbody>\n",
       "    <tr>\n",
       "      <th>249141</th>\n",
       "      <td>NaN</td>\n",
       "      <td>9146.1</td>\n",
       "      <td></td>\n",
       "      <td>91461</td>\n",
       "    </tr>\n",
       "    <tr>\n",
       "      <th>250510</th>\n",
       "      <td>NaN</td>\n",
       "      <td>9695.2</td>\n",
       "      <td></td>\n",
       "      <td>96952</td>\n",
       "    </tr>\n",
       "    <tr>\n",
       "      <th>258940</th>\n",
       "      <td>NaN</td>\n",
       "      <td>5982.1</td>\n",
       "      <td></td>\n",
       "      <td>59821</td>\n",
       "    </tr>\n",
       "    <tr>\n",
       "      <th>259302</th>\n",
       "      <td>NaN</td>\n",
       "      <td>2388.1</td>\n",
       "      <td></td>\n",
       "      <td>23881</td>\n",
       "    </tr>\n",
       "    <tr>\n",
       "      <th>259427</th>\n",
       "      <td>NaN</td>\n",
       "      <td>2293.1</td>\n",
       "      <td></td>\n",
       "      <td>22931</td>\n",
       "    </tr>\n",
       "  </tbody>\n",
       "</table>\n",
       "</div>"
      ],
      "text/plain": [
       "       clear-description    code description  target\n",
       "249141               NaN  9146.1               91461\n",
       "250510               NaN  9695.2               96952\n",
       "258940               NaN  5982.1               59821\n",
       "259302               NaN  2388.1               23881\n",
       "259427               NaN  2293.1               22931"
      ]
     },
     "execution_count": 6,
     "metadata": {},
     "output_type": "execute_result"
    }
   ],
   "source": [
    "data[data['clear-description'].isna()]"
   ]
  },
  {
   "cell_type": "code",
   "execution_count": 7,
   "id": "3e7d1972-02cd-4074-88f0-2c65484f7a7a",
   "metadata": {},
   "outputs": [],
   "source": [
    "data.dropna(inplace=True)"
   ]
  },
  {
   "cell_type": "code",
   "execution_count": 8,
   "id": "8ae692e7-718b-49a4-9de0-01cc6a12b02f",
   "metadata": {},
   "outputs": [
    {
     "data": {
      "text/plain": [
       "clear-description    0\n",
       "code                 0\n",
       "description          0\n",
       "target               0\n",
       "dtype: int64"
      ]
     },
     "execution_count": 8,
     "metadata": {},
     "output_type": "execute_result"
    }
   ],
   "source": [
    "data.isna().sum()"
   ]
  },
  {
   "cell_type": "code",
   "execution_count": 9,
   "id": "f143f9ce-09c9-4735-98cf-1862e594b478",
   "metadata": {},
   "outputs": [
    {
     "data": {
      "text/plain": [
       "105837"
      ]
     },
     "execution_count": 9,
     "metadata": {},
     "output_type": "execute_result"
    }
   ],
   "source": [
    "data.duplicated().sum()"
   ]
  },
  {
   "cell_type": "code",
   "execution_count": 10,
   "id": "29df833b-9b80-4af1-afd7-fec90783c545",
   "metadata": {},
   "outputs": [
    {
     "data": {
      "text/html": [
       "<div>\n",
       "<style scoped>\n",
       "    .dataframe tbody tr th:only-of-type {\n",
       "        vertical-align: middle;\n",
       "    }\n",
       "\n",
       "    .dataframe tbody tr th {\n",
       "        vertical-align: top;\n",
       "    }\n",
       "\n",
       "    .dataframe thead th {\n",
       "        text-align: right;\n",
       "    }\n",
       "</style>\n",
       "<table border=\"1\" class=\"dataframe\">\n",
       "  <thead>\n",
       "    <tr style=\"text-align: right;\">\n",
       "      <th></th>\n",
       "      <th>clear-description</th>\n",
       "      <th>code</th>\n",
       "      <th>description</th>\n",
       "      <th>target</th>\n",
       "    </tr>\n",
       "  </thead>\n",
       "  <tbody>\n",
       "    <tr>\n",
       "      <th>233259</th>\n",
       "      <td>бетонный смесь тяжелый бетон</td>\n",
       "      <td>2364.1</td>\n",
       "      <td>\\nБетонные смеси тяжелого бетона</td>\n",
       "      <td>23641</td>\n",
       "    </tr>\n",
       "    <tr>\n",
       "      <th>222832</th>\n",
       "      <td>бетонный смесь тяжелый бетон</td>\n",
       "      <td>2364.1</td>\n",
       "      <td>\\nБетонные смеси тяжелого бетона</td>\n",
       "      <td>23641</td>\n",
       "    </tr>\n",
       "    <tr>\n",
       "      <th>219578</th>\n",
       "      <td>бетонный смесь тяжелый бетон</td>\n",
       "      <td>2364.1</td>\n",
       "      <td>\\nБетонные смеси тяжелого бетона</td>\n",
       "      <td>23641</td>\n",
       "    </tr>\n",
       "    <tr>\n",
       "      <th>219341</th>\n",
       "      <td>бетонный смесь тяжелый бетон</td>\n",
       "      <td>2364.1</td>\n",
       "      <td>\\nБетонные смеси тяжелого бетона</td>\n",
       "      <td>23641</td>\n",
       "    </tr>\n",
       "    <tr>\n",
       "      <th>13827</th>\n",
       "      <td>вальсакор таблетка покрывать пленочный оболочк...</td>\n",
       "      <td>9300.1</td>\n",
       "      <td>\\nВальсакор Н 160 таблетки, покрытые пленочной...</td>\n",
       "      <td>93001</td>\n",
       "    </tr>\n",
       "    <tr>\n",
       "      <th>...</th>\n",
       "      <td>...</td>\n",
       "      <td>...</td>\n",
       "      <td>...</td>\n",
       "      <td>...</td>\n",
       "    </tr>\n",
       "    <tr>\n",
       "      <th>238700</th>\n",
       "      <td>шрот соевый кормовой тостированный</td>\n",
       "      <td>9146.1</td>\n",
       "      <td>шрот соевый кормовой тостированный</td>\n",
       "      <td>91461</td>\n",
       "    </tr>\n",
       "    <tr>\n",
       "      <th>249752</th>\n",
       "      <td>шрот соевый кормовой тостированный</td>\n",
       "      <td>9146.1</td>\n",
       "      <td>шрот соевый кормовой тостированный</td>\n",
       "      <td>91461</td>\n",
       "    </tr>\n",
       "    <tr>\n",
       "      <th>195015</th>\n",
       "      <td>щетка зубной взрослый</td>\n",
       "      <td>9677.1</td>\n",
       "      <td>щетки зубные для взрослых:</td>\n",
       "      <td>96771</td>\n",
       "    </tr>\n",
       "    <tr>\n",
       "      <th>236863</th>\n",
       "      <td>экструдат соевый кормовой</td>\n",
       "      <td>9146.1</td>\n",
       "      <td>экструдат соевый кормовой</td>\n",
       "      <td>91461</td>\n",
       "    </tr>\n",
       "    <tr>\n",
       "      <th>198892</th>\n",
       "      <td>эмаль водный дисперсионный акриловый основа</td>\n",
       "      <td>2388.1</td>\n",
       "      <td>эмали водно-дисперсионные на акриловой основе:</td>\n",
       "      <td>23881</td>\n",
       "    </tr>\n",
       "  </tbody>\n",
       "</table>\n",
       "<p>105837 rows × 4 columns</p>\n",
       "</div>"
      ],
      "text/plain": [
       "                                        clear-description    code  \\\n",
       "233259                       бетонный смесь тяжелый бетон  2364.1   \n",
       "222832                       бетонный смесь тяжелый бетон  2364.1   \n",
       "219578                       бетонный смесь тяжелый бетон  2364.1   \n",
       "219341                       бетонный смесь тяжелый бетон  2364.1   \n",
       "13827   вальсакор таблетка покрывать пленочный оболочк...  9300.1   \n",
       "...                                                   ...     ...   \n",
       "238700                 шрот соевый кормовой тостированный  9146.1   \n",
       "249752                 шрот соевый кормовой тостированный  9146.1   \n",
       "195015                              щетка зубной взрослый  9677.1   \n",
       "236863                          экструдат соевый кормовой  9146.1   \n",
       "198892        эмаль водный дисперсионный акриловый основа  2388.1   \n",
       "\n",
       "                                              description  target  \n",
       "233259                   \\nБетонные смеси тяжелого бетона   23641  \n",
       "222832                   \\nБетонные смеси тяжелого бетона   23641  \n",
       "219578                   \\nБетонные смеси тяжелого бетона   23641  \n",
       "219341                   \\nБетонные смеси тяжелого бетона   23641  \n",
       "13827   \\nВальсакор Н 160 таблетки, покрытые пленочной...   93001  \n",
       "...                                                   ...     ...  \n",
       "238700                 шрот соевый кормовой тостированный   91461  \n",
       "249752                 шрот соевый кормовой тостированный   91461  \n",
       "195015                         щетки зубные для взрослых:   96771  \n",
       "236863                          экструдат соевый кормовой   91461  \n",
       "198892    эмали водно-дисперсионные на акриловой основе:    23881  \n",
       "\n",
       "[105837 rows x 4 columns]"
      ]
     },
     "execution_count": 10,
     "metadata": {},
     "output_type": "execute_result"
    }
   ],
   "source": [
    "data[data.duplicated()].sort_values('description')"
   ]
  },
  {
   "cell_type": "code",
   "execution_count": 11,
   "id": "e0fd5a57-1dbd-4d85-8f74-9866a7bfaa15",
   "metadata": {},
   "outputs": [
    {
     "name": "stdout",
     "output_type": "stream",
     "text": [
      "доля полных дубликатов в данных = 39.55 %\n"
     ]
    }
   ],
   "source": [
    "print('доля полных дубликатов в данных =', (100*data.duplicated().sum()/len(data)).round(2), '%')"
   ]
  },
  {
   "cell_type": "markdown",
   "id": "613d6df9-20b6-4b78-ab9e-d703d689c6c9",
   "metadata": {},
   "source": [
    "> как видим есть полные дубликаты и причём достаточно много, почти 40%, но ничего не остаётся как удалить их, т.к. это негативно скажется на адекватности модели"
   ]
  },
  {
   "cell_type": "code",
   "execution_count": 12,
   "id": "070b3541-a6ce-43ae-b796-d40e3c30b80a",
   "metadata": {},
   "outputs": [
    {
     "data": {
      "text/plain": [
       "(267583, 4)"
      ]
     },
     "execution_count": 12,
     "metadata": {},
     "output_type": "execute_result"
    }
   ],
   "source": [
    "data.shape"
   ]
  },
  {
   "cell_type": "code",
   "execution_count": 13,
   "id": "5f2dbdc9-99d0-48a9-a2eb-257edd2a028b",
   "metadata": {},
   "outputs": [
    {
     "data": {
      "text/html": [
       "<div>\n",
       "<style scoped>\n",
       "    .dataframe tbody tr th:only-of-type {\n",
       "        vertical-align: middle;\n",
       "    }\n",
       "\n",
       "    .dataframe tbody tr th {\n",
       "        vertical-align: top;\n",
       "    }\n",
       "\n",
       "    .dataframe thead th {\n",
       "        text-align: right;\n",
       "    }\n",
       "</style>\n",
       "<table border=\"1\" class=\"dataframe\">\n",
       "  <thead>\n",
       "    <tr style=\"text-align: right;\">\n",
       "      <th></th>\n",
       "      <th>clear-description</th>\n",
       "      <th>code</th>\n",
       "      <th>description</th>\n",
       "      <th>target</th>\n",
       "    </tr>\n",
       "  </thead>\n",
       "  <tbody>\n",
       "    <tr>\n",
       "      <th>0</th>\n",
       "      <td>парацетамол таблетка ячейковый контурный карто...</td>\n",
       "      <td>9300.1</td>\n",
       "      <td>Парацетамол таблетки 500 мг 10 шт., упаковки я...</td>\n",
       "      <td>93001</td>\n",
       "    </tr>\n",
       "    <tr>\n",
       "      <th>1</th>\n",
       "      <td>перезаряжать литий ионный батарея торговый мар...</td>\n",
       "      <td>3482.2</td>\n",
       "      <td>Перезаряжаемая литий-ионная батарея торговой м...</td>\n",
       "      <td>34822</td>\n",
       "    </tr>\n",
       "    <tr>\n",
       "      <th>2</th>\n",
       "      <td>перезаряжать литий ионный батарея торговый мар...</td>\n",
       "      <td>3482.2</td>\n",
       "      <td>Перезаряжаемая литий-ионная батарея торговой м...</td>\n",
       "      <td>34822</td>\n",
       "    </tr>\n",
       "    <tr>\n",
       "      <th>3</th>\n",
       "      <td>аппарат вакуумный лазерный терапия стоматологи...</td>\n",
       "      <td>9444.4</td>\n",
       "      <td>Аппарат вакуумно-лазерной терапии стоматологич...</td>\n",
       "      <td>94444</td>\n",
       "    </tr>\n",
       "    <tr>\n",
       "      <th>4</th>\n",
       "      <td>блок оконный балконный дверной алюминиевый про...</td>\n",
       "      <td>5270.1</td>\n",
       "      <td>Блоки оконные и балконные дверные из алюминиев...</td>\n",
       "      <td>52701</td>\n",
       "    </tr>\n",
       "    <tr>\n",
       "      <th>...</th>\n",
       "      <td>...</td>\n",
       "      <td>...</td>\n",
       "      <td>...</td>\n",
       "      <td>...</td>\n",
       "    </tr>\n",
       "    <tr>\n",
       "      <th>267580</th>\n",
       "      <td>формибак жидкий кормовой смесь снижение уровен...</td>\n",
       "      <td>9750.1</td>\n",
       "      <td>Формибак жидкий - кормовая смесь для снижения ...</td>\n",
       "      <td>97501</td>\n",
       "    </tr>\n",
       "    <tr>\n",
       "      <th>267581</th>\n",
       "      <td>котелок туристический овальный объем литр корр...</td>\n",
       "      <td>1482.1</td>\n",
       "      <td>Котелки туристические овальные, объемом 1.7 ли...</td>\n",
       "      <td>14821</td>\n",
       "    </tr>\n",
       "    <tr>\n",
       "      <th>267582</th>\n",
       "      <td>посуда столовая кухонный керамический взрослый</td>\n",
       "      <td>5990.1</td>\n",
       "      <td>Посуда столовая и кухонная керамическая для вз...</td>\n",
       "      <td>59901</td>\n",
       "    </tr>\n",
       "    <tr>\n",
       "      <th>267583</th>\n",
       "      <td>выключатель вакуумный вр номинальный напряжени...</td>\n",
       "      <td>3414.8</td>\n",
       "      <td>Выключатели вакуумные серии ВР1, на номинально...</td>\n",
       "      <td>34148</td>\n",
       "    </tr>\n",
       "    <tr>\n",
       "      <th>267587</th>\n",
       "      <td>посуда алюминиевый литой кроме посуда ребенок ...</td>\n",
       "      <td>9695.1</td>\n",
       "      <td>Посуда алюминиевая литая (кроме посуды для дет...</td>\n",
       "      <td>96951</td>\n",
       "    </tr>\n",
       "  </tbody>\n",
       "</table>\n",
       "<p>161746 rows × 4 columns</p>\n",
       "</div>"
      ],
      "text/plain": [
       "                                        clear-description    code  \\\n",
       "0       парацетамол таблетка ячейковый контурный карто...  9300.1   \n",
       "1       перезаряжать литий ионный батарея торговый мар...  3482.2   \n",
       "2       перезаряжать литий ионный батарея торговый мар...  3482.2   \n",
       "3       аппарат вакуумный лазерный терапия стоматологи...  9444.4   \n",
       "4       блок оконный балконный дверной алюминиевый про...  5270.1   \n",
       "...                                                   ...     ...   \n",
       "267580  формибак жидкий кормовой смесь снижение уровен...  9750.1   \n",
       "267581  котелок туристический овальный объем литр корр...  1482.1   \n",
       "267582     посуда столовая кухонный керамический взрослый  5990.1   \n",
       "267583  выключатель вакуумный вр номинальный напряжени...  3414.8   \n",
       "267587  посуда алюминиевый литой кроме посуда ребенок ...  9695.1   \n",
       "\n",
       "                                              description  target  \n",
       "0       Парацетамол таблетки 500 мг 10 шт., упаковки я...   93001  \n",
       "1       Перезаряжаемая литий-ионная батарея торговой м...   34822  \n",
       "2       Перезаряжаемая литий-ионная батарея торговой м...   34822  \n",
       "3       Аппарат вакуумно-лазерной терапии стоматологич...   94444  \n",
       "4       Блоки оконные и балконные дверные из алюминиев...   52701  \n",
       "...                                                   ...     ...  \n",
       "267580  Формибак жидкий - кормовая смесь для снижения ...   97501  \n",
       "267581  Котелки туристические овальные, объемом 1.7 ли...   14821  \n",
       "267582  Посуда столовая и кухонная керамическая для вз...   59901  \n",
       "267583  Выключатели вакуумные серии ВР1, на номинально...   34148  \n",
       "267587  Посуда алюминиевая литая (кроме посуды для дет...   96951  \n",
       "\n",
       "[161746 rows x 4 columns]"
      ]
     },
     "execution_count": 13,
     "metadata": {},
     "output_type": "execute_result"
    }
   ],
   "source": [
    "data.drop(data[data.duplicated()].index)"
   ]
  },
  {
   "cell_type": "code",
   "execution_count": 14,
   "id": "9f416c2a-9213-4db2-a81c-efb7737a577f",
   "metadata": {},
   "outputs": [],
   "source": [
    "data.drop(data[data.duplicated()].index, inplace=True)"
   ]
  },
  {
   "cell_type": "code",
   "execution_count": 15,
   "id": "66b0efa4-2684-4f99-9612-735be47a9e0c",
   "metadata": {},
   "outputs": [
    {
     "data": {
      "text/plain": [
       "(161746, 4)"
      ]
     },
     "execution_count": 15,
     "metadata": {},
     "output_type": "execute_result"
    }
   ],
   "source": [
    "data.shape"
   ]
  },
  {
   "cell_type": "markdown",
   "id": "d76aa702-da8c-4e8e-9e04-d692fa5928da",
   "metadata": {},
   "source": [
    "# Подбор порога необходимого и достаточного количества примеров на класс\n",
    "В качестве базовой модели возьмём RidgeClassifier, т.к. на практике в аналогичных задачах он показал себя хорошо и в качестве векторизатора возём if-idf, т.к. данный метод позволяет хорошо разделять докуметы, отсекая слова, часто встречающиеся во всех примерах"
   ]
  },
  {
   "cell_type": "code",
   "execution_count": 16,
   "id": "9e920f98-0ea3-4d1d-a519-42dcd0517ef6",
   "metadata": {},
   "outputs": [],
   "source": [
    "baseline = RidgeClassifier()\n",
    "vectoriser = TfidfVectorizer()"
   ]
  },
  {
   "cell_type": "code",
   "execution_count": 17,
   "id": "e4af123e-d7dc-4769-a3bd-2ab6b4bbad16",
   "metadata": {},
   "outputs": [
    {
     "data": {
      "text/html": [
       "<div>\n",
       "<style scoped>\n",
       "    .dataframe tbody tr th:only-of-type {\n",
       "        vertical-align: middle;\n",
       "    }\n",
       "\n",
       "    .dataframe tbody tr th {\n",
       "        vertical-align: top;\n",
       "    }\n",
       "\n",
       "    .dataframe thead th {\n",
       "        text-align: right;\n",
       "    }\n",
       "</style>\n",
       "<table border=\"1\" class=\"dataframe\">\n",
       "  <thead>\n",
       "    <tr style=\"text-align: right;\">\n",
       "      <th></th>\n",
       "      <th>clear-description</th>\n",
       "      <th>code</th>\n",
       "      <th>description</th>\n",
       "      <th>target</th>\n",
       "    </tr>\n",
       "  </thead>\n",
       "  <tbody>\n",
       "    <tr>\n",
       "      <th>0</th>\n",
       "      <td>парацетамол таблетка ячейковый контурный карто...</td>\n",
       "      <td>9300.1</td>\n",
       "      <td>Парацетамол таблетки 500 мг 10 шт., упаковки я...</td>\n",
       "      <td>93001</td>\n",
       "    </tr>\n",
       "    <tr>\n",
       "      <th>1</th>\n",
       "      <td>перезаряжать литий ионный батарея торговый мар...</td>\n",
       "      <td>3482.2</td>\n",
       "      <td>Перезаряжаемая литий-ионная батарея торговой м...</td>\n",
       "      <td>34822</td>\n",
       "    </tr>\n",
       "    <tr>\n",
       "      <th>2</th>\n",
       "      <td>перезаряжать литий ионный батарея торговый мар...</td>\n",
       "      <td>3482.2</td>\n",
       "      <td>Перезаряжаемая литий-ионная батарея торговой м...</td>\n",
       "      <td>34822</td>\n",
       "    </tr>\n",
       "    <tr>\n",
       "      <th>3</th>\n",
       "      <td>аппарат вакуумный лазерный терапия стоматологи...</td>\n",
       "      <td>9444.4</td>\n",
       "      <td>Аппарат вакуумно-лазерной терапии стоматологич...</td>\n",
       "      <td>94444</td>\n",
       "    </tr>\n",
       "    <tr>\n",
       "      <th>4</th>\n",
       "      <td>блок оконный балконный дверной алюминиевый про...</td>\n",
       "      <td>5270.1</td>\n",
       "      <td>Блоки оконные и балконные дверные из алюминиев...</td>\n",
       "      <td>52701</td>\n",
       "    </tr>\n",
       "  </tbody>\n",
       "</table>\n",
       "</div>"
      ],
      "text/plain": [
       "                                   clear-description    code  \\\n",
       "0  парацетамол таблетка ячейковый контурный карто...  9300.1   \n",
       "1  перезаряжать литий ионный батарея торговый мар...  3482.2   \n",
       "2  перезаряжать литий ионный батарея торговый мар...  3482.2   \n",
       "3  аппарат вакуумный лазерный терапия стоматологи...  9444.4   \n",
       "4  блок оконный балконный дверной алюминиевый про...  5270.1   \n",
       "\n",
       "                                         description  target  \n",
       "0  Парацетамол таблетки 500 мг 10 шт., упаковки я...   93001  \n",
       "1  Перезаряжаемая литий-ионная батарея торговой м...   34822  \n",
       "2  Перезаряжаемая литий-ионная батарея торговой м...   34822  \n",
       "3  Аппарат вакуумно-лазерной терапии стоматологич...   94444  \n",
       "4  Блоки оконные и балконные дверные из алюминиев...   52701  "
      ]
     },
     "execution_count": 17,
     "metadata": {},
     "output_type": "execute_result"
    }
   ],
   "source": [
    "data.head()"
   ]
  },
  {
   "cell_type": "code",
   "execution_count": 13,
   "id": "43f8b3ed-bd08-42a3-a596-33c613d01ae4",
   "metadata": {},
   "outputs": [],
   "source": [
    "# коды, имеющие меньше 5 примеров не будем брать в данные на обучение, т.к. невозможно будет проводить перекрёстную проверку качества модели\n",
    "# tvc = data.target.value_counts()\n",
    "# tvc[tvc < 5].index"
   ]
  },
  {
   "cell_type": "code",
   "execution_count": 14,
   "id": "d3d0bc79-5907-429d-bad1-714ef13f30d8",
   "metadata": {},
   "outputs": [],
   "source": [
    "# d2 = data.copy()"
   ]
  },
  {
   "cell_type": "code",
   "execution_count": 15,
   "id": "5f718441-77af-47c4-8a71-3845100dde32",
   "metadata": {},
   "outputs": [],
   "source": [
    "# for tr in tvc[tvc < 5].index.tolist():\n",
    "#     data.drop(data[data.target == tr].index, inplace=True)\n",
    "# d2.shape, data.shape"
   ]
  },
  {
   "cell_type": "code",
   "execution_count": 18,
   "id": "a2fcbb63-d6a2-470e-900b-e15875dfcfa8",
   "metadata": {},
   "outputs": [
    {
     "data": {
      "text/plain": [
       "array([93001, 34822, 34822, 94444, 52701])"
      ]
     },
     "execution_count": 18,
     "metadata": {},
     "output_type": "execute_result"
    }
   ],
   "source": [
    "# target = data.target.values\n",
    "# target[:5]"
   ]
  },
  {
   "cell_type": "code",
   "execution_count": 17,
   "id": "60df1348-cff3-4bd6-9482-40aa2db9b479",
   "metadata": {},
   "outputs": [
    {
     "data": {
      "text/plain": [
       "(161746, 55094)"
      ]
     },
     "execution_count": 17,
     "metadata": {},
     "output_type": "execute_result"
    }
   ],
   "source": [
    "# X = vectoriser.fit_transform(data['clear-description'].values)\n",
    "# X.shape"
   ]
  },
  {
   "cell_type": "code",
   "execution_count": 29,
   "id": "0621a2f6-b659-440c-a205-ff104638c2f8",
   "metadata": {},
   "outputs": [
    {
     "data": {
      "text/plain": [
       "array(['__', 'aa', 'aaa', ..., 'ящичный', 'ящур', 'іі'], dtype=object)"
      ]
     },
     "execution_count": 29,
     "metadata": {},
     "output_type": "execute_result"
    }
   ],
   "source": [
    "# terms = vectoriser.get_feature_names_out()\n",
    "# terms, len(terms)\n",
    "# df = pd.DataFrame(X.toarray(), columns=terms, dtypes=np.float16)\n",
    "# del X\n",
    "# gc.collect()\n",
    "# df.head()"
   ]
  },
  {
   "cell_type": "code",
   "execution_count": 19,
   "id": "7a07941e-5815-4f85-8d51-e3e87462d1ef",
   "metadata": {},
   "outputs": [],
   "source": [
    "# df.info()"
   ]
  },
  {
   "cell_type": "code",
   "execution_count": 20,
   "id": "965820e1-da74-46f8-aa18-7ba551ef700a",
   "metadata": {},
   "outputs": [],
   "source": [
    "# df = df.astype(np.float32)"
   ]
  },
  {
   "cell_type": "code",
   "execution_count": 21,
   "id": "a2b9a198-36ce-42c6-9117-746c96f4f676",
   "metadata": {},
   "outputs": [],
   "source": [
    "# del data\n",
    "# del d2\n",
    "# del X\n",
    "# gc.collect()"
   ]
  },
  {
   "cell_type": "code",
   "execution_count": 22,
   "id": "dad6f1e1-92fc-483b-a57d-12ada1dd1721",
   "metadata": {},
   "outputs": [],
   "source": [
    "# with open('terms_to_delete.txt', 'w') as f:\n",
    "#     for t in terms:\n",
    "#         f.write(t+'\\n')"
   ]
  },
  {
   "cell_type": "code",
   "execution_count": 23,
   "id": "e1bec3f2-1f9a-4ca9-8031-62d3f4a5f2b8",
   "metadata": {},
   "outputs": [],
   "source": [
    "# ttd = pd.read_csv('terms_to_delete.txt')\n",
    "# ttd.dropna(inplace=True)\n",
    "# ttd[:5].values"
   ]
  },
  {
   "cell_type": "code",
   "execution_count": 24,
   "id": "b57f9887-3ff4-4944-b104-fa4d7b8e4c7c",
   "metadata": {},
   "outputs": [],
   "source": [
    "# ttd.values.flatten().tolist()[:5]"
   ]
  },
  {
   "cell_type": "code",
   "execution_count": 25,
   "id": "2060d57e-7b0b-4375-9ef5-aa6400c266b4",
   "metadata": {},
   "outputs": [],
   "source": [
    "# df.drop(columns=ttd.values.flatten().tolist(), axis=1, inplace=True, errors='ignore')\n",
    "# df.shape"
   ]
  },
  {
   "cell_type": "code",
   "execution_count": 26,
   "id": "2c1bbc71-d377-4e95-8fd7-2bb45092e659",
   "metadata": {},
   "outputs": [],
   "source": [
    "# df['target'] = target"
   ]
  },
  {
   "cell_type": "code",
   "execution_count": 27,
   "id": "2ef9122d-4c38-4628-a992-c252a57e5300",
   "metadata": {},
   "outputs": [],
   "source": [
    "# df.head()"
   ]
  },
  {
   "cell_type": "code",
   "execution_count": 28,
   "id": "7793b5cc-482e-4fd2-8995-a8aefe83f500",
   "metadata": {},
   "outputs": [],
   "source": [
    "# df.to_pickle('df.pkl')"
   ]
  },
  {
   "cell_type": "code",
   "execution_count": 19,
   "id": "0fb6866e-cd49-439c-8f77-94898a9375e8",
   "metadata": {},
   "outputs": [
    {
     "data": {
      "text/plain": [
       "93001    86986\n",
       "23641     6623\n",
       "59901     2842\n",
       "22931     2742\n",
       "59701     2643\n",
       "         ...  \n",
       "25530        1\n",
       "23221        1\n",
       "93815        1\n",
       "23720        1\n",
       "34546        1\n",
       "Name: target, Length: 363, dtype: int64"
      ]
     },
     "execution_count": 19,
     "metadata": {},
     "output_type": "execute_result"
    }
   ],
   "source": [
    "data.target.value_counts()"
   ]
  },
  {
   "cell_type": "code",
   "execution_count": 22,
   "id": "c7660182-e81b-4d1a-b0d2-c741c524438a",
   "metadata": {},
   "outputs": [],
   "source": [
    "data.to_pickle('data.pkl')"
   ]
  },
  {
   "cell_type": "code",
   "execution_count": 23,
   "id": "cad436c9-c907-4f80-98cf-d7b1d4adc987",
   "metadata": {},
   "outputs": [
    {
     "name": "stderr",
     "output_type": "stream",
     "text": [
      "100%|██████████| 5/5 [16:38<00:00, 199.65s/it]\n"
     ]
    }
   ],
   "source": [
    "thresholds = [5,10,20,50,100]\n",
    "results = pd.DataFrame()\n",
    "vc = data.target.value_counts()\n",
    "\n",
    "for th in tqdm(thresholds):\n",
    "    df = data.copy()\n",
    "    for code in vc[vc < th].index:\n",
    "        df.drop(df[df.target == code].index, inplace=True)\n",
    "        \n",
    "    X = vectoriser.fit_transform(df['clear-description'].values)\n",
    "    scores = cross_val_score(baseline, X, df['target'], scoring='f1_weighted', n_jobs=-1, cv=5)  # кросс-валидация в данном случае будет стратифицированной, что необходимо при дисбалансе классов\n",
    "    results[str(th)] = scores"
   ]
  },
  {
   "cell_type": "code",
   "execution_count": 24,
   "id": "7758dc76-c93c-4542-8b3d-99f77ee27709",
   "metadata": {},
   "outputs": [
    {
     "data": {
      "text/html": [
       "<div>\n",
       "<style scoped>\n",
       "    .dataframe tbody tr th:only-of-type {\n",
       "        vertical-align: middle;\n",
       "    }\n",
       "\n",
       "    .dataframe tbody tr th {\n",
       "        vertical-align: top;\n",
       "    }\n",
       "\n",
       "    .dataframe thead th {\n",
       "        text-align: right;\n",
       "    }\n",
       "</style>\n",
       "<table border=\"1\" class=\"dataframe\">\n",
       "  <thead>\n",
       "    <tr style=\"text-align: right;\">\n",
       "      <th></th>\n",
       "      <th>5</th>\n",
       "      <th>10</th>\n",
       "      <th>20</th>\n",
       "      <th>50</th>\n",
       "      <th>100</th>\n",
       "    </tr>\n",
       "  </thead>\n",
       "  <tbody>\n",
       "    <tr>\n",
       "      <th>0</th>\n",
       "      <td>0.834704</td>\n",
       "      <td>0.836351</td>\n",
       "      <td>0.839814</td>\n",
       "      <td>0.847903</td>\n",
       "      <td>0.856389</td>\n",
       "    </tr>\n",
       "    <tr>\n",
       "      <th>1</th>\n",
       "      <td>0.856001</td>\n",
       "      <td>0.857483</td>\n",
       "      <td>0.861377</td>\n",
       "      <td>0.868885</td>\n",
       "      <td>0.877771</td>\n",
       "    </tr>\n",
       "    <tr>\n",
       "      <th>2</th>\n",
       "      <td>0.857875</td>\n",
       "      <td>0.859560</td>\n",
       "      <td>0.863317</td>\n",
       "      <td>0.871701</td>\n",
       "      <td>0.879778</td>\n",
       "    </tr>\n",
       "    <tr>\n",
       "      <th>3</th>\n",
       "      <td>0.843506</td>\n",
       "      <td>0.845273</td>\n",
       "      <td>0.849658</td>\n",
       "      <td>0.857608</td>\n",
       "      <td>0.867332</td>\n",
       "    </tr>\n",
       "    <tr>\n",
       "      <th>4</th>\n",
       "      <td>0.837387</td>\n",
       "      <td>0.838509</td>\n",
       "      <td>0.842745</td>\n",
       "      <td>0.850410</td>\n",
       "      <td>0.860348</td>\n",
       "    </tr>\n",
       "  </tbody>\n",
       "</table>\n",
       "</div>"
      ],
      "text/plain": [
       "          5        10        20        50       100\n",
       "0  0.834704  0.836351  0.839814  0.847903  0.856389\n",
       "1  0.856001  0.857483  0.861377  0.868885  0.877771\n",
       "2  0.857875  0.859560  0.863317  0.871701  0.879778\n",
       "3  0.843506  0.845273  0.849658  0.857608  0.867332\n",
       "4  0.837387  0.838509  0.842745  0.850410  0.860348"
      ]
     },
     "execution_count": 24,
     "metadata": {},
     "output_type": "execute_result"
    }
   ],
   "source": [
    "results"
   ]
  },
  {
   "cell_type": "code",
   "execution_count": 27,
   "id": "e976b0e0-4fab-4f3e-a70c-854fafb1c157",
   "metadata": {},
   "outputs": [
    {
     "data": {
      "text/plain": [
       "5      0.845894\n",
       "10     0.847435\n",
       "20     0.851382\n",
       "50     0.859301\n",
       "100    0.868323\n",
       "dtype: float64"
      ]
     },
     "execution_count": 27,
     "metadata": {},
     "output_type": "execute_result"
    }
   ],
   "source": [
    "results.mean().sort_values()"
   ]
  },
  {
   "cell_type": "markdown",
   "id": "30640852-d5bd-43e4-b943-347ff03519b1",
   "metadata": {},
   "source": [
    "> при примерах качество ожидаемо лучше, берём этот порог, т.к. кейсодержатель акцентировал внимание на важности близости к 100% точности модели"
   ]
  },
  {
   "cell_type": "code",
   "execution_count": 61,
   "id": "21d6bd10-acff-49bf-8de3-237c4401bbcc",
   "metadata": {},
   "outputs": [
    {
     "data": {
      "image/png": "[encoded data removed]",
      "text/plain": [
       "<Figure size 1080x360 with 1 Axes>"
      ]
     },
     "metadata": {
      "needs_background": "light"
     },
     "output_type": "display_data"
    }
   ],
   "source": [
    "fig = plt.subplots(figsize=(15,5))\n",
    "for p in results.columns:\n",
    "    plt.plot(results[str(p)], marker='o', label=f'не менее {p} примеров на один код')\n",
    "    \n",
    "plt.xticks([0,1,2,3,4], [1,2,3,4,5])\n",
    "plt.xlabel('Folds', fontdict={'fontsize': 14})\n",
    "plt.ylabel('f1_weighted', fontdict={'fontsize': 14})\n",
    "plt.title('Базовая модель RidgeClassifier', fontdict={'fontsize': 16})\n",
    "plt.grid()\n",
    "plt.legend()\n",
    "plt.show()"
   ]
  },
  {
   "cell_type": "markdown",
   "id": "c25f4d63-3b0d-4053-9372-cf588f63ee67",
   "metadata": {},
   "source": [
    "# Подготовка трёх датасетов с различными алгоритмами векторизации"
   ]
  },
  {
   "cell_type": "code",
   "execution_count": 28,
   "id": "6434b192-3163-4e70-8197-4d3f171eb23e",
   "metadata": {},
   "outputs": [
    {
     "data": {
      "text/plain": [
       "(156608, 4)"
      ]
     },
     "execution_count": 28,
     "metadata": {},
     "output_type": "execute_result"
    }
   ],
   "source": [
    "df = data.copy()\n",
    "vc = df.target.value_counts()\n",
    "\n",
    "for code in vc[vc < 100].index:\n",
    "    df.drop(df[df.target == code].index, inplace=True)\n",
    "    \n",
    "df.shape"
   ]
  },
  {
   "cell_type": "code",
   "execution_count": 29,
   "id": "da3ef07d-3a3f-418a-8b6d-030f434b6f6c",
   "metadata": {},
   "outputs": [
    {
     "data": {
      "text/html": [
       "<div>\n",
       "<style scoped>\n",
       "    .dataframe tbody tr th:only-of-type {\n",
       "        vertical-align: middle;\n",
       "    }\n",
       "\n",
       "    .dataframe tbody tr th {\n",
       "        vertical-align: top;\n",
       "    }\n",
       "\n",
       "    .dataframe thead th {\n",
       "        text-align: right;\n",
       "    }\n",
       "</style>\n",
       "<table border=\"1\" class=\"dataframe\">\n",
       "  <thead>\n",
       "    <tr style=\"text-align: right;\">\n",
       "      <th></th>\n",
       "      <th>clear-description</th>\n",
       "      <th>code</th>\n",
       "      <th>description</th>\n",
       "      <th>target</th>\n",
       "    </tr>\n",
       "  </thead>\n",
       "  <tbody>\n",
       "    <tr>\n",
       "      <th>0</th>\n",
       "      <td>парацетамол таблетка ячейковый контурный карто...</td>\n",
       "      <td>9300.1</td>\n",
       "      <td>Парацетамол таблетки 500 мг 10 шт., упаковки я...</td>\n",
       "      <td>93001</td>\n",
       "    </tr>\n",
       "    <tr>\n",
       "      <th>1</th>\n",
       "      <td>перезаряжать литий ионный батарея торговый мар...</td>\n",
       "      <td>3482.2</td>\n",
       "      <td>Перезаряжаемая литий-ионная батарея торговой м...</td>\n",
       "      <td>34822</td>\n",
       "    </tr>\n",
       "    <tr>\n",
       "      <th>2</th>\n",
       "      <td>перезаряжать литий ионный батарея торговый мар...</td>\n",
       "      <td>3482.2</td>\n",
       "      <td>Перезаряжаемая литий-ионная батарея торговой м...</td>\n",
       "      <td>34822</td>\n",
       "    </tr>\n",
       "    <tr>\n",
       "      <th>3</th>\n",
       "      <td>аппарат вакуумный лазерный терапия стоматологи...</td>\n",
       "      <td>9444.4</td>\n",
       "      <td>Аппарат вакуумно-лазерной терапии стоматологич...</td>\n",
       "      <td>94444</td>\n",
       "    </tr>\n",
       "    <tr>\n",
       "      <th>4</th>\n",
       "      <td>блок оконный балконный дверной алюминиевый про...</td>\n",
       "      <td>5270.1</td>\n",
       "      <td>Блоки оконные и балконные дверные из алюминиев...</td>\n",
       "      <td>52701</td>\n",
       "    </tr>\n",
       "  </tbody>\n",
       "</table>\n",
       "</div>"
      ],
      "text/plain": [
       "                                   clear-description    code  \\\n",
       "0  парацетамол таблетка ячейковый контурный карто...  9300.1   \n",
       "1  перезаряжать литий ионный батарея торговый мар...  3482.2   \n",
       "2  перезаряжать литий ионный батарея торговый мар...  3482.2   \n",
       "3  аппарат вакуумный лазерный терапия стоматологи...  9444.4   \n",
       "4  блок оконный балконный дверной алюминиевый про...  5270.1   \n",
       "\n",
       "                                         description  target  \n",
       "0  Парацетамол таблетки 500 мг 10 шт., упаковки я...   93001  \n",
       "1  Перезаряжаемая литий-ионная батарея торговой м...   34822  \n",
       "2  Перезаряжаемая литий-ионная батарея торговой м...   34822  \n",
       "3  Аппарат вакуумно-лазерной терапии стоматологич...   94444  \n",
       "4  Блоки оконные и балконные дверные из алюминиев...   52701  "
      ]
     },
     "execution_count": 29,
     "metadata": {},
     "output_type": "execute_result"
    }
   ],
   "source": [
    "df.head()"
   ]
  },
  {
   "cell_type": "code",
   "execution_count": 44,
   "id": "6189f010-98a7-4e67-b341-e507aa0e282c",
   "metadata": {},
   "outputs": [],
   "source": [
    "df.to_pickle('data/prod_df.pkl')"
   ]
  },
  {
   "cell_type": "code",
   "execution_count": 45,
   "id": "ea6f12b8-251e-41f9-b1a1-3a1309821a2c",
   "metadata": {},
   "outputs": [],
   "source": [
    "df.to_csv('data/prod_df.csv', index=False)"
   ]
  },
  {
   "cell_type": "markdown",
   "id": "01165dc0-b4d3-479a-9c9f-0383a2c3e8ec",
   "metadata": {},
   "source": [
    "`clear-description` - очищенный текст, идёт на векторизацию  \n",
    "`target` - преобразованный код товара, обратное преобразование делением на 10"
   ]
  },
  {
   "cell_type": "code",
   "execution_count": 30,
   "id": "cc0f675b-b874-4b70-88a4-62b99c75e0c2",
   "metadata": {},
   "outputs": [],
   "source": [
    "ttd = pd.read_csv('terms_to_delete.txt')\n",
    "ttd.dropna(inplace=True)\n",
    "terms_to_delete = ttd.values.flatten().tolist()"
   ]
  },
  {
   "cell_type": "code",
   "execution_count": 34,
   "id": "9e3c2717-c9c8-4b28-a629-02578e0c8d14",
   "metadata": {},
   "outputs": [],
   "source": [
    "# TF-IDF\n",
    "tfidf = TfidfVectorizer(stop_words=terms_to_delete).fit(df['clear-description'])\n",
    "X_tfidf = tfidf.transform(df['clear-description'])"
   ]
  },
  {
   "cell_type": "code",
   "execution_count": 35,
   "id": "a6c9c4fe-0bf4-45e9-bf71-646966f65c6c",
   "metadata": {},
   "outputs": [
    {
     "data": {
      "text/plain": [
       "(156608, 26748)"
      ]
     },
     "execution_count": 35,
     "metadata": {},
     "output_type": "execute_result"
    }
   ],
   "source": [
    "X_tfidf.shape"
   ]
  },
  {
   "cell_type": "code",
   "execution_count": 38,
   "id": "c39aa6c4-72ab-4c8f-bbd0-cb329e81ffc6",
   "metadata": {},
   "outputs": [
    {
     "data": {
      "text/plain": [
       "(156608, 183517)"
      ]
     },
     "execution_count": 38,
     "metadata": {},
     "output_type": "execute_result"
    }
   ],
   "source": [
    "# Bigramms\n",
    "bigram = CountVectorizer(stop_words=terms_to_delete, ngram_range=(2,2)).fit(df['clear-description'])\n",
    "X_bigram = bigram.transform(df['clear-description'])\n",
    "X_bigram.shape"
   ]
  },
  {
   "cell_type": "code",
   "execution_count": 39,
   "id": "7d3a9698-9002-4907-b64b-773afeebca1a",
   "metadata": {},
   "outputs": [
    {
     "data": {
      "text/plain": [
       "(156608, 26748)"
      ]
     },
     "execution_count": 39,
     "metadata": {},
     "output_type": "execute_result"
    }
   ],
   "source": [
    "# Simple count\n",
    "cnt = CountVectorizer(stop_words=terms_to_delete).fit(df['clear-description'])\n",
    "X_cnt = cnt.transform(df['clear-description'])\n",
    "X_cnt.shape"
   ]
  },
  {
   "cell_type": "code",
   "execution_count": 42,
   "id": "d30bf294-4194-49d2-aa2a-d3899fbd0652",
   "metadata": {},
   "outputs": [],
   "source": [
    "# save datasets\n",
    "with open('data/X_tfidf.pkl', 'wb') as f:\n",
    "    pickle.dump(X_tfidf, f)\n",
    "with open('data/X_bigram.pkl', 'wb') as f:\n",
    "    pickle.dump(X_bigram, f)\n",
    "with open('data/X_cnt.pkl', 'wb') as f:\n",
    "    pickle.dump(X_cnt, f)"
   ]
  },
  {
   "cell_type": "code",
   "execution_count": 43,
   "id": "6a4dc274-e8ee-44f5-bbd0-e5b818e6895a",
   "metadata": {},
   "outputs": [],
   "source": [
    "# save vectorizers\n",
    "with open('data/tfidf.pkl', 'wb') as f:\n",
    "    pickle.dump(tfidf, f)\n",
    "with open('data/bigram.pkl', 'wb') as f:\n",
    "    pickle.dump(bigram, f)\n",
    "with open('data/cnt.pkl', 'wb') as f:\n",
    "    pickle.dump(cnt, f)"
   ]
  },
  {
   "cell_type": "markdown",
   "id": "6dc4fdae-6657-40ae-bfd7-daae9c2787ba",
   "metadata": {},
   "source": [
    "> таким образом, подготовлены три датасета с разными подхдодами к векторизации текста, всё сохранено, в том числе итоговый датафрейм с удалёнными заказами, которые представлены менее чем 100 примерами"
   ]
  },
  {
   "cell_type": "markdown",
   "id": "b5caa8c7-4ec1-489c-b47d-53a1fe31d002",
   "metadata": {
    "tags": []
   },
   "source": [
    "# Оценка работы базовой модели на разных датасетах\n",
    "По итогу выберем один с лучшей метрикой"
   ]
  },
  {
   "cell_type": "code",
   "execution_count": 2,
   "id": "8d6c94f0-c695-4a02-8be8-471d40c9211b",
   "metadata": {},
   "outputs": [],
   "source": [
    "with open('data/X_tfidf.pkl', 'rb') as f:\n",
    "    X_tfidf = pickle.load(f)\n",
    "with open('data/X_bigram.pkl', 'rb') as f:\n",
    "    X_bigram = pickle.load(f)\n",
    "with open('data/X_cnt.pkl', 'rb') as f:\n",
    "    X_cnt = pickle.load(f)\n",
    "    \n",
    "with open('data/prod_df.pkl', 'rb') as f:\n",
    "    df = pickle.load(f)"
   ]
  },
  {
   "cell_type": "code",
   "execution_count": 3,
   "id": "900d257f-002e-427c-8dd0-c84bba3b9905",
   "metadata": {
    "collapsed": true,
    "jupyter": {
     "outputs_hidden": true
    },
    "tags": []
   },
   "outputs": [
    {
     "name": "stdout",
     "output_type": "stream",
     "text": [
      "dataset # 1\n",
      "dataset # 2\n",
      "dataset # 3\n"
     ]
    },
    {
     "ename": "KeyError",
     "evalue": "'X_tfidf'",
     "output_type": "error",
     "traceback": [
      "\u001b[0;31m---------------------------------------------------------------------------\u001b[0m",
      "\u001b[0;31mKeyError\u001b[0m                                  Traceback (most recent call last)",
      "\u001b[0;32m/var/folders/pg/4tc5f0v90510r0fh55scq52c0000gn/T/ipykernel_13473/1259652756.py\u001b[0m in \u001b[0;36m<module>\u001b[0;34m\u001b[0m\n\u001b[1;32m      9\u001b[0m \u001b[0;34m\u001b[0m\u001b[0m\n\u001b[1;32m     10\u001b[0m \u001b[0mmodels_raiting\u001b[0m\u001b[0;34m.\u001b[0m\u001b[0mrename\u001b[0m\u001b[0;34m(\u001b[0m\u001b[0mmapper\u001b[0m\u001b[0;34m=\u001b[0m\u001b[0;34m{\u001b[0m\u001b[0;34m'0'\u001b[0m\u001b[0;34m:\u001b[0m\u001b[0;34m'X_tfidf'\u001b[0m\u001b[0;34m,\u001b[0m\u001b[0;34m'1'\u001b[0m\u001b[0;34m:\u001b[0m\u001b[0;34m'X_bigram'\u001b[0m\u001b[0;34m,\u001b[0m\u001b[0;34m'2'\u001b[0m\u001b[0;34m:\u001b[0m\u001b[0;34m'X_cnt'\u001b[0m\u001b[0;34m}\u001b[0m\u001b[0;34m,\u001b[0m \u001b[0minplace\u001b[0m\u001b[0;34m=\u001b[0m\u001b[0;32mTrue\u001b[0m\u001b[0;34m)\u001b[0m\u001b[0;34m\u001b[0m\u001b[0;34m\u001b[0m\u001b[0m\n\u001b[0;32m---> 11\u001b[0;31m \u001b[0mmodels_raiting\u001b[0m\u001b[0;34m.\u001b[0m\u001b[0msort_values\u001b[0m\u001b[0;34m(\u001b[0m\u001b[0;34m[\u001b[0m\u001b[0;34m'X_tfidf'\u001b[0m\u001b[0;34m,\u001b[0m \u001b[0;34m'X_bigram'\u001b[0m\u001b[0;34m,\u001b[0m \u001b[0;34m'X_cnt'\u001b[0m\u001b[0;34m]\u001b[0m\u001b[0;34m,\u001b[0m \u001b[0minplace\u001b[0m\u001b[0;34m=\u001b[0m\u001b[0;32mTrue\u001b[0m\u001b[0;34m)\u001b[0m\u001b[0;34m\u001b[0m\u001b[0;34m\u001b[0m\u001b[0m\n\u001b[0m\u001b[1;32m     12\u001b[0m \u001b[0mmodels_raiting\u001b[0m\u001b[0;34m\u001b[0m\u001b[0;34m\u001b[0m\u001b[0m\n",
      "\u001b[0;32m/opt/homebrew/Caskroom/miniforge/base/lib/python3.9/site-packages/pandas/util/_decorators.py\u001b[0m in \u001b[0;36mwrapper\u001b[0;34m(*args, **kwargs)\u001b[0m\n\u001b[1;32m    309\u001b[0m                     \u001b[0mstacklevel\u001b[0m\u001b[0;34m=\u001b[0m\u001b[0mstacklevel\u001b[0m\u001b[0;34m,\u001b[0m\u001b[0;34m\u001b[0m\u001b[0;34m\u001b[0m\u001b[0m\n\u001b[1;32m    310\u001b[0m                 )\n\u001b[0;32m--> 311\u001b[0;31m             \u001b[0;32mreturn\u001b[0m \u001b[0mfunc\u001b[0m\u001b[0;34m(\u001b[0m\u001b[0;34m*\u001b[0m\u001b[0margs\u001b[0m\u001b[0;34m,\u001b[0m \u001b[0;34m**\u001b[0m\u001b[0mkwargs\u001b[0m\u001b[0;34m)\u001b[0m\u001b[0;34m\u001b[0m\u001b[0;34m\u001b[0m\u001b[0m\n\u001b[0m\u001b[1;32m    312\u001b[0m \u001b[0;34m\u001b[0m\u001b[0m\n\u001b[1;32m    313\u001b[0m         \u001b[0;32mreturn\u001b[0m \u001b[0mwrapper\u001b[0m\u001b[0;34m\u001b[0m\u001b[0;34m\u001b[0m\u001b[0m\n",
      "\u001b[0;32m/opt/homebrew/Caskroom/miniforge/base/lib/python3.9/site-packages/pandas/core/frame.py\u001b[0m in \u001b[0;36msort_values\u001b[0;34m(self, by, axis, ascending, inplace, kind, na_position, ignore_index, key)\u001b[0m\n\u001b[1;32m   6240\u001b[0m         \u001b[0;32mif\u001b[0m \u001b[0mlen\u001b[0m\u001b[0;34m(\u001b[0m\u001b[0mby\u001b[0m\u001b[0;34m)\u001b[0m \u001b[0;34m>\u001b[0m \u001b[0;36m1\u001b[0m\u001b[0;34m:\u001b[0m\u001b[0;34m\u001b[0m\u001b[0;34m\u001b[0m\u001b[0m\n\u001b[1;32m   6241\u001b[0m \u001b[0;34m\u001b[0m\u001b[0m\n\u001b[0;32m-> 6242\u001b[0;31m             \u001b[0mkeys\u001b[0m \u001b[0;34m=\u001b[0m \u001b[0;34m[\u001b[0m\u001b[0mself\u001b[0m\u001b[0;34m.\u001b[0m\u001b[0m_get_label_or_level_values\u001b[0m\u001b[0;34m(\u001b[0m\u001b[0mx\u001b[0m\u001b[0;34m,\u001b[0m \u001b[0maxis\u001b[0m\u001b[0;34m=\u001b[0m\u001b[0maxis\u001b[0m\u001b[0;34m)\u001b[0m \u001b[0;32mfor\u001b[0m \u001b[0mx\u001b[0m \u001b[0;32min\u001b[0m \u001b[0mby\u001b[0m\u001b[0;34m]\u001b[0m\u001b[0;34m\u001b[0m\u001b[0;34m\u001b[0m\u001b[0m\n\u001b[0m\u001b[1;32m   6243\u001b[0m \u001b[0;34m\u001b[0m\u001b[0m\n\u001b[1;32m   6244\u001b[0m             \u001b[0;31m# need to rewrap columns in Series to apply key function\u001b[0m\u001b[0;34m\u001b[0m\u001b[0;34m\u001b[0m\u001b[0m\n",
      "\u001b[0;32m/opt/homebrew/Caskroom/miniforge/base/lib/python3.9/site-packages/pandas/core/frame.py\u001b[0m in \u001b[0;36m<listcomp>\u001b[0;34m(.0)\u001b[0m\n\u001b[1;32m   6240\u001b[0m         \u001b[0;32mif\u001b[0m \u001b[0mlen\u001b[0m\u001b[0;34m(\u001b[0m\u001b[0mby\u001b[0m\u001b[0;34m)\u001b[0m \u001b[0;34m>\u001b[0m \u001b[0;36m1\u001b[0m\u001b[0;34m:\u001b[0m\u001b[0;34m\u001b[0m\u001b[0;34m\u001b[0m\u001b[0m\n\u001b[1;32m   6241\u001b[0m \u001b[0;34m\u001b[0m\u001b[0m\n\u001b[0;32m-> 6242\u001b[0;31m             \u001b[0mkeys\u001b[0m \u001b[0;34m=\u001b[0m \u001b[0;34m[\u001b[0m\u001b[0mself\u001b[0m\u001b[0;34m.\u001b[0m\u001b[0m_get_label_or_level_values\u001b[0m\u001b[0;34m(\u001b[0m\u001b[0mx\u001b[0m\u001b[0;34m,\u001b[0m \u001b[0maxis\u001b[0m\u001b[0;34m=\u001b[0m\u001b[0maxis\u001b[0m\u001b[0;34m)\u001b[0m \u001b[0;32mfor\u001b[0m \u001b[0mx\u001b[0m \u001b[0;32min\u001b[0m \u001b[0mby\u001b[0m\u001b[0;34m]\u001b[0m\u001b[0;34m\u001b[0m\u001b[0;34m\u001b[0m\u001b[0m\n\u001b[0m\u001b[1;32m   6243\u001b[0m \u001b[0;34m\u001b[0m\u001b[0m\n\u001b[1;32m   6244\u001b[0m             \u001b[0;31m# need to rewrap columns in Series to apply key function\u001b[0m\u001b[0;34m\u001b[0m\u001b[0;34m\u001b[0m\u001b[0m\n",
      "\u001b[0;32m/opt/homebrew/Caskroom/miniforge/base/lib/python3.9/site-packages/pandas/core/generic.py\u001b[0m in \u001b[0;36m_get_label_or_level_values\u001b[0;34m(self, key, axis)\u001b[0m\n\u001b[1;32m   1777\u001b[0m             \u001b[0mvalues\u001b[0m \u001b[0;34m=\u001b[0m \u001b[0mself\u001b[0m\u001b[0;34m.\u001b[0m\u001b[0maxes\u001b[0m\u001b[0;34m[\u001b[0m\u001b[0maxis\u001b[0m\u001b[0;34m]\u001b[0m\u001b[0;34m.\u001b[0m\u001b[0mget_level_values\u001b[0m\u001b[0;34m(\u001b[0m\u001b[0mkey\u001b[0m\u001b[0;34m)\u001b[0m\u001b[0;34m.\u001b[0m\u001b[0m_values\u001b[0m\u001b[0;34m\u001b[0m\u001b[0;34m\u001b[0m\u001b[0m\n\u001b[1;32m   1778\u001b[0m         \u001b[0;32melse\u001b[0m\u001b[0;34m:\u001b[0m\u001b[0;34m\u001b[0m\u001b[0;34m\u001b[0m\u001b[0m\n\u001b[0;32m-> 1779\u001b[0;31m             \u001b[0;32mraise\u001b[0m \u001b[0mKeyError\u001b[0m\u001b[0;34m(\u001b[0m\u001b[0mkey\u001b[0m\u001b[0;34m)\u001b[0m\u001b[0;34m\u001b[0m\u001b[0;34m\u001b[0m\u001b[0m\n\u001b[0m\u001b[1;32m   1780\u001b[0m \u001b[0;34m\u001b[0m\u001b[0m\n\u001b[1;32m   1781\u001b[0m         \u001b[0;31m# Check for duplicates\u001b[0m\u001b[0;34m\u001b[0m\u001b[0;34m\u001b[0m\u001b[0m\n",
      "\u001b[0;31mKeyError\u001b[0m: 'X_tfidf'"
     ]
    }
   ],
   "source": [
    "baseline = RidgeClassifier()\n",
    "models_raiting = pd.DataFrame()\n",
    "\n",
    "for i,X in enumerate([X_tfidf, X_bigram, X_cnt]):\n",
    "    print('dataset #', i+1)\n",
    "    models_score = []\n",
    "    scores = cross_val_score(baseline, X, df['target'], scoring='f1_weighted', n_jobs=-1, cv=5)  # кросс-валидация в данном случае будет стратифицированной, что необходимо при дисбалансе классов\n",
    "    models_raiting[str(i)] = scores\n",
    "    \n",
    "models_raiting.rename(mapper={'0':'X_tfidf','1':'X_bigram','2':'X_cnt'}, inplace=True)\n",
    "models_raiting.sort_values(['X_tfidf', 'X_bigram', 'X_cnt'], inplace=True)\n",
    "models_raiting "
   ]
  },
  {
   "cell_type": "code",
   "execution_count": 8,
   "id": "8cab115c-eaf2-4df2-a1af-48b666f79dcd",
   "metadata": {},
   "outputs": [
    {
     "data": {
      "text/html": [
       "<div>\n",
       "<style scoped>\n",
       "    .dataframe tbody tr th:only-of-type {\n",
       "        vertical-align: middle;\n",
       "    }\n",
       "\n",
       "    .dataframe tbody tr th {\n",
       "        vertical-align: top;\n",
       "    }\n",
       "\n",
       "    .dataframe thead th {\n",
       "        text-align: right;\n",
       "    }\n",
       "</style>\n",
       "<table border=\"1\" class=\"dataframe\">\n",
       "  <thead>\n",
       "    <tr style=\"text-align: right;\">\n",
       "      <th></th>\n",
       "      <th>X_tfidf</th>\n",
       "      <th>X_bigram</th>\n",
       "      <th>X_cnt</th>\n",
       "    </tr>\n",
       "  </thead>\n",
       "  <tbody>\n",
       "    <tr>\n",
       "      <th>0</th>\n",
       "      <td>0.869920</td>\n",
       "      <td>0.827598</td>\n",
       "      <td>0.834572</td>\n",
       "    </tr>\n",
       "    <tr>\n",
       "      <th>1</th>\n",
       "      <td>0.878576</td>\n",
       "      <td>0.867502</td>\n",
       "      <td>0.873041</td>\n",
       "    </tr>\n",
       "    <tr>\n",
       "      <th>2</th>\n",
       "      <td>0.881503</td>\n",
       "      <td>0.863696</td>\n",
       "      <td>0.873685</td>\n",
       "    </tr>\n",
       "    <tr>\n",
       "      <th>3</th>\n",
       "      <td>0.869232</td>\n",
       "      <td>0.847044</td>\n",
       "      <td>0.860416</td>\n",
       "    </tr>\n",
       "    <tr>\n",
       "      <th>4</th>\n",
       "      <td>0.861603</td>\n",
       "      <td>0.839396</td>\n",
       "      <td>0.852467</td>\n",
       "    </tr>\n",
       "  </tbody>\n",
       "</table>\n",
       "</div>"
      ],
      "text/plain": [
       "    X_tfidf  X_bigram     X_cnt\n",
       "0  0.869920  0.827598  0.834572\n",
       "1  0.878576  0.867502  0.873041\n",
       "2  0.881503  0.863696  0.873685\n",
       "3  0.869232  0.847044  0.860416\n",
       "4  0.861603  0.839396  0.852467"
      ]
     },
     "execution_count": 8,
     "metadata": {},
     "output_type": "execute_result"
    }
   ],
   "source": [
    "models_raiting.rename(columns={'0':'X_tfidf','1':'X_bigram','2':'X_cnt'}, inplace=True)\n",
    "# models_raiting.sort_values(['X_tfidf', 'X_bigram', 'X_cnt'], inplace=True)\n",
    "models_raiting   "
   ]
  },
  {
   "cell_type": "code",
   "execution_count": 9,
   "id": "066c7036-9001-4a2d-b05b-1d2da50bd555",
   "metadata": {},
   "outputs": [
    {
     "data": {
      "text/plain": [
       "X_bigram    0.849047\n",
       "X_cnt       0.858836\n",
       "X_tfidf     0.872167\n",
       "dtype: float64"
      ]
     },
     "execution_count": 9,
     "metadata": {},
     "output_type": "execute_result"
    }
   ],
   "source": [
    "models_raiting.mean().sort_values()"
   ]
  },
  {
   "cell_type": "markdown",
   "id": "e1132b5f-087a-4fc5-bb3b-596d2164a089",
   "metadata": {},
   "source": [
    "> выбираем датасет `Х_tfidf`, т.к. на нём получаем лучшее качество"
   ]
  },
  {
   "cell_type": "markdown",
   "id": "b2be5ae4-6fe3-447d-a9c1-a52dd296adb7",
   "metadata": {},
   "source": [
    "# Oценить работу разных алгоритмов, выбрать решение с наилучшей метрикой"
   ]
  },
  {
   "cell_type": "code",
   "execution_count": 10,
   "id": "c7c69e0c-dd48-4770-b9c1-ea22e7f1ffbb",
   "metadata": {},
   "outputs": [],
   "source": [
    "models = {\n",
    "    'RidgeClassifier': RidgeClassifier(),\n",
    "    'LogisticRegression': LogisticRegression(),\n",
    "    'LinearSVC': LinearSVC(),\n",
    "    'LGBMClassifier': LGBMClassifier(),\n",
    "    'ExtraTreesClassifier': ExtraTreesClassifier(),\n",
    "    'RandomForestClassifier': RandomForestClassifier(),\n",
    "    'GradientBoostingClassifier': GradientBoostingClassifier(),\n",
    "    'KNeighborsClassifier': KNeighborsClassifier(),\n",
    "    'MLPClassifier': MLPClassifier()\n",
    "}"
   ]
  },
  {
   "cell_type": "code",
   "execution_count": 11,
   "id": "41cc2ebf-76e6-4ff5-b23c-c17a5c94172b",
   "metadata": {},
   "outputs": [
    {
     "data": {
      "text/html": [
       "<div>\n",
       "<style scoped>\n",
       "    .dataframe tbody tr th:only-of-type {\n",
       "        vertical-align: middle;\n",
       "    }\n",
       "\n",
       "    .dataframe tbody tr th {\n",
       "        vertical-align: top;\n",
       "    }\n",
       "\n",
       "    .dataframe thead th {\n",
       "        text-align: right;\n",
       "    }\n",
       "</style>\n",
       "<table border=\"1\" class=\"dataframe\">\n",
       "  <thead>\n",
       "    <tr style=\"text-align: right;\">\n",
       "      <th></th>\n",
       "      <th>clear-description</th>\n",
       "      <th>code</th>\n",
       "      <th>description</th>\n",
       "      <th>target</th>\n",
       "    </tr>\n",
       "  </thead>\n",
       "  <tbody>\n",
       "    <tr>\n",
       "      <th>0</th>\n",
       "      <td>парацетамол таблетка ячейковый контурный карто...</td>\n",
       "      <td>9300.1</td>\n",
       "      <td>Парацетамол таблетки 500 мг 10 шт., упаковки я...</td>\n",
       "      <td>93001</td>\n",
       "    </tr>\n",
       "    <tr>\n",
       "      <th>1</th>\n",
       "      <td>перезаряжать литий ионный батарея торговый мар...</td>\n",
       "      <td>3482.2</td>\n",
       "      <td>Перезаряжаемая литий-ионная батарея торговой м...</td>\n",
       "      <td>34822</td>\n",
       "    </tr>\n",
       "    <tr>\n",
       "      <th>2</th>\n",
       "      <td>перезаряжать литий ионный батарея торговый мар...</td>\n",
       "      <td>3482.2</td>\n",
       "      <td>Перезаряжаемая литий-ионная батарея торговой м...</td>\n",
       "      <td>34822</td>\n",
       "    </tr>\n",
       "    <tr>\n",
       "      <th>3</th>\n",
       "      <td>аппарат вакуумный лазерный терапия стоматологи...</td>\n",
       "      <td>9444.4</td>\n",
       "      <td>Аппарат вакуумно-лазерной терапии стоматологич...</td>\n",
       "      <td>94444</td>\n",
       "    </tr>\n",
       "    <tr>\n",
       "      <th>4</th>\n",
       "      <td>блок оконный балконный дверной алюминиевый про...</td>\n",
       "      <td>5270.1</td>\n",
       "      <td>Блоки оконные и балконные дверные из алюминиев...</td>\n",
       "      <td>52701</td>\n",
       "    </tr>\n",
       "  </tbody>\n",
       "</table>\n",
       "</div>"
      ],
      "text/plain": [
       "                                   clear-description    code  \\\n",
       "0  парацетамол таблетка ячейковый контурный карто...  9300.1   \n",
       "1  перезаряжать литий ионный батарея торговый мар...  3482.2   \n",
       "2  перезаряжать литий ионный батарея торговый мар...  3482.2   \n",
       "3  аппарат вакуумный лазерный терапия стоматологи...  9444.4   \n",
       "4  блок оконный балконный дверной алюминиевый про...  5270.1   \n",
       "\n",
       "                                         description  target  \n",
       "0  Парацетамол таблетки 500 мг 10 шт., упаковки я...   93001  \n",
       "1  Перезаряжаемая литий-ионная батарея торговой м...   34822  \n",
       "2  Перезаряжаемая литий-ионная батарея торговой м...   34822  \n",
       "3  Аппарат вакуумно-лазерной терапии стоматологич...   94444  \n",
       "4  Блоки оконные и балконные дверные из алюминиев...   52701  "
      ]
     },
     "execution_count": 11,
     "metadata": {},
     "output_type": "execute_result"
    }
   ],
   "source": [
    "df.head()"
   ]
  },
  {
   "cell_type": "code",
   "execution_count": 12,
   "id": "86d30a43-f8e9-45a5-bb46-ed48a923f22f",
   "metadata": {
    "collapsed": true,
    "jupyter": {
     "outputs_hidden": true
    },
    "tags": []
   },
   "outputs": [
    {
     "name": "stdout",
     "output_type": "stream",
     "text": [
      "RidgeClassifier estimation...\n",
      "LogisticRegression estimation...\n"
     ]
    },
    {
     "name": "stderr",
     "output_type": "stream",
     "text": [
      "/opt/homebrew/Caskroom/miniforge/base/lib/python3.9/site-packages/sklearn/linear_model/_logistic.py:814: ConvergenceWarning: lbfgs failed to converge (status=1):\n",
      "STOP: TOTAL NO. of ITERATIONS REACHED LIMIT.\n",
      "\n",
      "Increase the number of iterations (max_iter) or scale the data as shown in:\n",
      "    https://scikit-learn.org/stable/modules/preprocessing.html\n",
      "Please also refer to the documentation for alternative solver options:\n",
      "    https://scikit-learn.org/stable/modules/linear_model.html#logistic-regression\n",
      "  n_iter_i = _check_optimize_result(\n",
      "/opt/homebrew/Caskroom/miniforge/base/lib/python3.9/site-packages/sklearn/linear_model/_logistic.py:814: ConvergenceWarning: lbfgs failed to converge (status=1):\n",
      "STOP: TOTAL NO. of ITERATIONS REACHED LIMIT.\n",
      "\n",
      "Increase the number of iterations (max_iter) or scale the data as shown in:\n",
      "    https://scikit-learn.org/stable/modules/preprocessing.html\n",
      "Please also refer to the documentation for alternative solver options:\n",
      "    https://scikit-learn.org/stable/modules/linear_model.html#logistic-regression\n",
      "  n_iter_i = _check_optimize_result(\n",
      "/opt/homebrew/Caskroom/miniforge/base/lib/python3.9/site-packages/sklearn/linear_model/_logistic.py:814: ConvergenceWarning: lbfgs failed to converge (status=1):\n",
      "STOP: TOTAL NO. of ITERATIONS REACHED LIMIT.\n",
      "\n",
      "Increase the number of iterations (max_iter) or scale the data as shown in:\n",
      "    https://scikit-learn.org/stable/modules/preprocessing.html\n",
      "Please also refer to the documentation for alternative solver options:\n",
      "    https://scikit-learn.org/stable/modules/linear_model.html#logistic-regression\n",
      "  n_iter_i = _check_optimize_result(\n",
      "/opt/homebrew/Caskroom/miniforge/base/lib/python3.9/site-packages/sklearn/linear_model/_logistic.py:814: ConvergenceWarning: lbfgs failed to converge (status=1):\n",
      "STOP: TOTAL NO. of ITERATIONS REACHED LIMIT.\n",
      "\n",
      "Increase the number of iterations (max_iter) or scale the data as shown in:\n",
      "    https://scikit-learn.org/stable/modules/preprocessing.html\n",
      "Please also refer to the documentation for alternative solver options:\n",
      "    https://scikit-learn.org/stable/modules/linear_model.html#logistic-regression\n",
      "  n_iter_i = _check_optimize_result(\n",
      "/opt/homebrew/Caskroom/miniforge/base/lib/python3.9/site-packages/sklearn/linear_model/_logistic.py:814: ConvergenceWarning: lbfgs failed to converge (status=1):\n",
      "STOP: TOTAL NO. of ITERATIONS REACHED LIMIT.\n",
      "\n",
      "Increase the number of iterations (max_iter) or scale the data as shown in:\n",
      "    https://scikit-learn.org/stable/modules/preprocessing.html\n",
      "Please also refer to the documentation for alternative solver options:\n",
      "    https://scikit-learn.org/stable/modules/linear_model.html#logistic-regression\n",
      "  n_iter_i = _check_optimize_result(\n"
     ]
    },
    {
     "name": "stdout",
     "output_type": "stream",
     "text": [
      "LinearSVC estimation...\n",
      "LGBMClassifier estimation...\n",
      "ExtraTreesClassifier estimation...\n",
      "RandomForestClassifier estimation...\n",
      "GradientBoostingClassifier estimation...\n"
     ]
    },
    {
     "ename": "KeyboardInterrupt",
     "evalue": "",
     "output_type": "error",
     "traceback": [
      "\u001b[0;31m---------------------------------------------------------------------------\u001b[0m",
      "\u001b[0;31mKeyboardInterrupt\u001b[0m                         Traceback (most recent call last)",
      "\u001b[0;32m/var/folders/pg/4tc5f0v90510r0fh55scq52c0000gn/T/ipykernel_13473/3665071699.py\u001b[0m in \u001b[0;36m<module>\u001b[0;34m\u001b[0m\n\u001b[1;32m      4\u001b[0m     \u001b[0mmodel_score\u001b[0m \u001b[0;34m=\u001b[0m \u001b[0;34m[\u001b[0m\u001b[0;34m]\u001b[0m\u001b[0;34m\u001b[0m\u001b[0;34m\u001b[0m\u001b[0m\n\u001b[1;32m      5\u001b[0m     \u001b[0mprint\u001b[0m\u001b[0;34m(\u001b[0m\u001b[0mmodel\u001b[0m\u001b[0;34m[\u001b[0m\u001b[0;36m0\u001b[0m\u001b[0;34m]\u001b[0m\u001b[0;34m,\u001b[0m \u001b[0;34m'estimation...'\u001b[0m\u001b[0;34m)\u001b[0m\u001b[0;34m\u001b[0m\u001b[0;34m\u001b[0m\u001b[0m\n\u001b[0;32m----> 6\u001b[0;31m     \u001b[0mscores\u001b[0m \u001b[0;34m=\u001b[0m \u001b[0mcross_val_score\u001b[0m\u001b[0;34m(\u001b[0m\u001b[0mmodel\u001b[0m\u001b[0;34m[\u001b[0m\u001b[0;36m1\u001b[0m\u001b[0;34m]\u001b[0m\u001b[0;34m,\u001b[0m \u001b[0mX_tfidf\u001b[0m\u001b[0;34m,\u001b[0m \u001b[0mdf\u001b[0m\u001b[0;34m[\u001b[0m\u001b[0;34m'target'\u001b[0m\u001b[0;34m]\u001b[0m\u001b[0;34m,\u001b[0m \u001b[0mscoring\u001b[0m\u001b[0;34m=\u001b[0m\u001b[0;34m'f1_weighted'\u001b[0m\u001b[0;34m,\u001b[0m \u001b[0mn_jobs\u001b[0m\u001b[0;34m=\u001b[0m\u001b[0;34m-\u001b[0m\u001b[0;36m1\u001b[0m\u001b[0;34m,\u001b[0m \u001b[0mcv\u001b[0m\u001b[0;34m=\u001b[0m\u001b[0;36m5\u001b[0m\u001b[0;34m)\u001b[0m  \u001b[0;31m# кросс-валидация в данном случае будет стратифицированной, что необходимо при дисбалансе классов\u001b[0m\u001b[0;34m\u001b[0m\u001b[0;34m\u001b[0m\u001b[0m\n\u001b[0m\u001b[1;32m      7\u001b[0m     \u001b[0mmodels_raiting\u001b[0m\u001b[0;34m[\u001b[0m\u001b[0mmodel\u001b[0m\u001b[0;34m[\u001b[0m\u001b[0;36m0\u001b[0m\u001b[0;34m]\u001b[0m\u001b[0;34m]\u001b[0m \u001b[0;34m=\u001b[0m \u001b[0mscores\u001b[0m\u001b[0;34m\u001b[0m\u001b[0;34m\u001b[0m\u001b[0m\n\u001b[1;32m      8\u001b[0m \u001b[0;34m\u001b[0m\u001b[0m\n",
      "\u001b[0;32m/opt/homebrew/Caskroom/miniforge/base/lib/python3.9/site-packages/sklearn/model_selection/_validation.py\u001b[0m in \u001b[0;36mcross_val_score\u001b[0;34m(estimator, X, y, groups, scoring, cv, n_jobs, verbose, fit_params, pre_dispatch, error_score)\u001b[0m\n\u001b[1;32m    508\u001b[0m     \u001b[0mscorer\u001b[0m \u001b[0;34m=\u001b[0m \u001b[0mcheck_scoring\u001b[0m\u001b[0;34m(\u001b[0m\u001b[0mestimator\u001b[0m\u001b[0;34m,\u001b[0m \u001b[0mscoring\u001b[0m\u001b[0;34m=\u001b[0m\u001b[0mscoring\u001b[0m\u001b[0;34m)\u001b[0m\u001b[0;34m\u001b[0m\u001b[0;34m\u001b[0m\u001b[0m\n\u001b[1;32m    509\u001b[0m \u001b[0;34m\u001b[0m\u001b[0m\n\u001b[0;32m--> 510\u001b[0;31m     cv_results = cross_validate(\n\u001b[0m\u001b[1;32m    511\u001b[0m         \u001b[0mestimator\u001b[0m\u001b[0;34m=\u001b[0m\u001b[0mestimator\u001b[0m\u001b[0;34m,\u001b[0m\u001b[0;34m\u001b[0m\u001b[0;34m\u001b[0m\u001b[0m\n\u001b[1;32m    512\u001b[0m         \u001b[0mX\u001b[0m\u001b[0;34m=\u001b[0m\u001b[0mX\u001b[0m\u001b[0;34m,\u001b[0m\u001b[0;34m\u001b[0m\u001b[0;34m\u001b[0m\u001b[0m\n",
      "\u001b[0;32m/opt/homebrew/Caskroom/miniforge/base/lib/python3.9/site-packages/sklearn/model_selection/_validation.py\u001b[0m in \u001b[0;36mcross_validate\u001b[0;34m(estimator, X, y, groups, scoring, cv, n_jobs, verbose, fit_params, pre_dispatch, return_train_score, return_estimator, error_score)\u001b[0m\n\u001b[1;32m    265\u001b[0m     \u001b[0;31m# independent, and that it is pickle-able.\u001b[0m\u001b[0;34m\u001b[0m\u001b[0;34m\u001b[0m\u001b[0m\n\u001b[1;32m    266\u001b[0m     \u001b[0mparallel\u001b[0m \u001b[0;34m=\u001b[0m \u001b[0mParallel\u001b[0m\u001b[0;34m(\u001b[0m\u001b[0mn_jobs\u001b[0m\u001b[0;34m=\u001b[0m\u001b[0mn_jobs\u001b[0m\u001b[0;34m,\u001b[0m \u001b[0mverbose\u001b[0m\u001b[0;34m=\u001b[0m\u001b[0mverbose\u001b[0m\u001b[0;34m,\u001b[0m \u001b[0mpre_dispatch\u001b[0m\u001b[0;34m=\u001b[0m\u001b[0mpre_dispatch\u001b[0m\u001b[0;34m)\u001b[0m\u001b[0;34m\u001b[0m\u001b[0;34m\u001b[0m\u001b[0m\n\u001b[0;32m--> 267\u001b[0;31m     results = parallel(\n\u001b[0m\u001b[1;32m    268\u001b[0m         delayed(_fit_and_score)(\n\u001b[1;32m    269\u001b[0m             \u001b[0mclone\u001b[0m\u001b[0;34m(\u001b[0m\u001b[0mestimator\u001b[0m\u001b[0;34m)\u001b[0m\u001b[0;34m,\u001b[0m\u001b[0;34m\u001b[0m\u001b[0;34m\u001b[0m\u001b[0m\n",
      "\u001b[0;32m/opt/homebrew/Caskroom/miniforge/base/lib/python3.9/site-packages/joblib/parallel.py\u001b[0m in \u001b[0;36m__call__\u001b[0;34m(self, iterable)\u001b[0m\n\u001b[1;32m   1054\u001b[0m \u001b[0;34m\u001b[0m\u001b[0m\n\u001b[1;32m   1055\u001b[0m             \u001b[0;32mwith\u001b[0m \u001b[0mself\u001b[0m\u001b[0;34m.\u001b[0m\u001b[0m_backend\u001b[0m\u001b[0;34m.\u001b[0m\u001b[0mretrieval_context\u001b[0m\u001b[0;34m(\u001b[0m\u001b[0;34m)\u001b[0m\u001b[0;34m:\u001b[0m\u001b[0;34m\u001b[0m\u001b[0;34m\u001b[0m\u001b[0m\n\u001b[0;32m-> 1056\u001b[0;31m                 \u001b[0mself\u001b[0m\u001b[0;34m.\u001b[0m\u001b[0mretrieve\u001b[0m\u001b[0;34m(\u001b[0m\u001b[0;34m)\u001b[0m\u001b[0;34m\u001b[0m\u001b[0;34m\u001b[0m\u001b[0m\n\u001b[0m\u001b[1;32m   1057\u001b[0m             \u001b[0;31m# Make sure that we get a last message telling us we are done\u001b[0m\u001b[0;34m\u001b[0m\u001b[0;34m\u001b[0m\u001b[0m\n\u001b[1;32m   1058\u001b[0m             \u001b[0melapsed_time\u001b[0m \u001b[0;34m=\u001b[0m \u001b[0mtime\u001b[0m\u001b[0;34m.\u001b[0m\u001b[0mtime\u001b[0m\u001b[0;34m(\u001b[0m\u001b[0;34m)\u001b[0m \u001b[0;34m-\u001b[0m \u001b[0mself\u001b[0m\u001b[0;34m.\u001b[0m\u001b[0m_start_time\u001b[0m\u001b[0;34m\u001b[0m\u001b[0;34m\u001b[0m\u001b[0m\n",
      "\u001b[0;32m/opt/homebrew/Caskroom/miniforge/base/lib/python3.9/site-packages/joblib/parallel.py\u001b[0m in \u001b[0;36mretrieve\u001b[0;34m(self)\u001b[0m\n\u001b[1;32m    933\u001b[0m             \u001b[0;32mtry\u001b[0m\u001b[0;34m:\u001b[0m\u001b[0;34m\u001b[0m\u001b[0;34m\u001b[0m\u001b[0m\n\u001b[1;32m    934\u001b[0m                 \u001b[0;32mif\u001b[0m \u001b[0mgetattr\u001b[0m\u001b[0;34m(\u001b[0m\u001b[0mself\u001b[0m\u001b[0;34m.\u001b[0m\u001b[0m_backend\u001b[0m\u001b[0;34m,\u001b[0m \u001b[0;34m'supports_timeout'\u001b[0m\u001b[0;34m,\u001b[0m \u001b[0;32mFalse\u001b[0m\u001b[0;34m)\u001b[0m\u001b[0;34m:\u001b[0m\u001b[0;34m\u001b[0m\u001b[0;34m\u001b[0m\u001b[0m\n\u001b[0;32m--> 935\u001b[0;31m                     \u001b[0mself\u001b[0m\u001b[0;34m.\u001b[0m\u001b[0m_output\u001b[0m\u001b[0;34m.\u001b[0m\u001b[0mextend\u001b[0m\u001b[0;34m(\u001b[0m\u001b[0mjob\u001b[0m\u001b[0;34m.\u001b[0m\u001b[0mget\u001b[0m\u001b[0;34m(\u001b[0m\u001b[0mtimeout\u001b[0m\u001b[0;34m=\u001b[0m\u001b[0mself\u001b[0m\u001b[0;34m.\u001b[0m\u001b[0mtimeout\u001b[0m\u001b[0;34m)\u001b[0m\u001b[0;34m)\u001b[0m\u001b[0;34m\u001b[0m\u001b[0;34m\u001b[0m\u001b[0m\n\u001b[0m\u001b[1;32m    936\u001b[0m                 \u001b[0;32melse\u001b[0m\u001b[0;34m:\u001b[0m\u001b[0;34m\u001b[0m\u001b[0;34m\u001b[0m\u001b[0m\n\u001b[1;32m    937\u001b[0m                     \u001b[0mself\u001b[0m\u001b[0;34m.\u001b[0m\u001b[0m_output\u001b[0m\u001b[0;34m.\u001b[0m\u001b[0mextend\u001b[0m\u001b[0;34m(\u001b[0m\u001b[0mjob\u001b[0m\u001b[0;34m.\u001b[0m\u001b[0mget\u001b[0m\u001b[0;34m(\u001b[0m\u001b[0;34m)\u001b[0m\u001b[0;34m)\u001b[0m\u001b[0;34m\u001b[0m\u001b[0;34m\u001b[0m\u001b[0m\n",
      "\u001b[0;32m/opt/homebrew/Caskroom/miniforge/base/lib/python3.9/site-packages/joblib/_parallel_backends.py\u001b[0m in \u001b[0;36mwrap_future_result\u001b[0;34m(future, timeout)\u001b[0m\n\u001b[1;32m    540\u001b[0m         AsyncResults.get from multiprocessing.\"\"\"\n\u001b[1;32m    541\u001b[0m         \u001b[0;32mtry\u001b[0m\u001b[0;34m:\u001b[0m\u001b[0;34m\u001b[0m\u001b[0;34m\u001b[0m\u001b[0m\n\u001b[0;32m--> 542\u001b[0;31m             \u001b[0;32mreturn\u001b[0m \u001b[0mfuture\u001b[0m\u001b[0;34m.\u001b[0m\u001b[0mresult\u001b[0m\u001b[0;34m(\u001b[0m\u001b[0mtimeout\u001b[0m\u001b[0;34m=\u001b[0m\u001b[0mtimeout\u001b[0m\u001b[0;34m)\u001b[0m\u001b[0;34m\u001b[0m\u001b[0;34m\u001b[0m\u001b[0m\n\u001b[0m\u001b[1;32m    543\u001b[0m         \u001b[0;32mexcept\u001b[0m \u001b[0mCfTimeoutError\u001b[0m \u001b[0;32mas\u001b[0m \u001b[0me\u001b[0m\u001b[0;34m:\u001b[0m\u001b[0;34m\u001b[0m\u001b[0;34m\u001b[0m\u001b[0m\n\u001b[1;32m    544\u001b[0m             \u001b[0;32mraise\u001b[0m \u001b[0mTimeoutError\u001b[0m \u001b[0;32mfrom\u001b[0m \u001b[0me\u001b[0m\u001b[0;34m\u001b[0m\u001b[0;34m\u001b[0m\u001b[0m\n",
      "\u001b[0;32m/opt/homebrew/Caskroom/miniforge/base/lib/python3.9/concurrent/futures/_base.py\u001b[0m in \u001b[0;36mresult\u001b[0;34m(self, timeout)\u001b[0m\n\u001b[1;32m    438\u001b[0m                     \u001b[0;32mreturn\u001b[0m \u001b[0mself\u001b[0m\u001b[0;34m.\u001b[0m\u001b[0m__get_result\u001b[0m\u001b[0;34m(\u001b[0m\u001b[0;34m)\u001b[0m\u001b[0;34m\u001b[0m\u001b[0;34m\u001b[0m\u001b[0m\n\u001b[1;32m    439\u001b[0m \u001b[0;34m\u001b[0m\u001b[0m\n\u001b[0;32m--> 440\u001b[0;31m                 \u001b[0mself\u001b[0m\u001b[0;34m.\u001b[0m\u001b[0m_condition\u001b[0m\u001b[0;34m.\u001b[0m\u001b[0mwait\u001b[0m\u001b[0;34m(\u001b[0m\u001b[0mtimeout\u001b[0m\u001b[0;34m)\u001b[0m\u001b[0;34m\u001b[0m\u001b[0;34m\u001b[0m\u001b[0m\n\u001b[0m\u001b[1;32m    441\u001b[0m \u001b[0;34m\u001b[0m\u001b[0m\n\u001b[1;32m    442\u001b[0m                 \u001b[0;32mif\u001b[0m \u001b[0mself\u001b[0m\u001b[0;34m.\u001b[0m\u001b[0m_state\u001b[0m \u001b[0;32min\u001b[0m \u001b[0;34m[\u001b[0m\u001b[0mCANCELLED\u001b[0m\u001b[0;34m,\u001b[0m \u001b[0mCANCELLED_AND_NOTIFIED\u001b[0m\u001b[0;34m]\u001b[0m\u001b[0;34m:\u001b[0m\u001b[0;34m\u001b[0m\u001b[0;34m\u001b[0m\u001b[0m\n",
      "\u001b[0;32m/opt/homebrew/Caskroom/miniforge/base/lib/python3.9/threading.py\u001b[0m in \u001b[0;36mwait\u001b[0;34m(self, timeout)\u001b[0m\n\u001b[1;32m    310\u001b[0m         \u001b[0;32mtry\u001b[0m\u001b[0;34m:\u001b[0m    \u001b[0;31m# restore state no matter what (e.g., KeyboardInterrupt)\u001b[0m\u001b[0;34m\u001b[0m\u001b[0;34m\u001b[0m\u001b[0m\n\u001b[1;32m    311\u001b[0m             \u001b[0;32mif\u001b[0m \u001b[0mtimeout\u001b[0m \u001b[0;32mis\u001b[0m \u001b[0;32mNone\u001b[0m\u001b[0;34m:\u001b[0m\u001b[0;34m\u001b[0m\u001b[0;34m\u001b[0m\u001b[0m\n\u001b[0;32m--> 312\u001b[0;31m                 \u001b[0mwaiter\u001b[0m\u001b[0;34m.\u001b[0m\u001b[0macquire\u001b[0m\u001b[0;34m(\u001b[0m\u001b[0;34m)\u001b[0m\u001b[0;34m\u001b[0m\u001b[0;34m\u001b[0m\u001b[0m\n\u001b[0m\u001b[1;32m    313\u001b[0m                 \u001b[0mgotit\u001b[0m \u001b[0;34m=\u001b[0m \u001b[0;32mTrue\u001b[0m\u001b[0;34m\u001b[0m\u001b[0;34m\u001b[0m\u001b[0m\n\u001b[1;32m    314\u001b[0m             \u001b[0;32melse\u001b[0m\u001b[0;34m:\u001b[0m\u001b[0;34m\u001b[0m\u001b[0;34m\u001b[0m\u001b[0m\n",
      "\u001b[0;31mKeyboardInterrupt\u001b[0m: "
     ]
    }
   ],
   "source": [
    "models_raiting = pd.DataFrame()\n",
    "\n",
    "for model in models.items():\n",
    "    model_score = []\n",
    "    print(model[0], 'estimation...')\n",
    "    scores = cross_val_score(model[1], X_tfidf, df['target'], scoring='f1_weighted', n_jobs=-1, cv=5)  # кросс-валидация в данном случае будет стратифицированной, что необходимо при дисбалансе классов\n",
    "    models_raiting[model[0]] = scores\n",
    "    \n",
    "models_raiting"
   ]
  },
  {
   "cell_type": "code",
   "execution_count": 13,
   "id": "4c78bf66-ac14-436b-a965-c3250081a757",
   "metadata": {},
   "outputs": [
    {
     "data": {
      "text/html": [
       "<div>\n",
       "<style scoped>\n",
       "    .dataframe tbody tr th:only-of-type {\n",
       "        vertical-align: middle;\n",
       "    }\n",
       "\n",
       "    .dataframe tbody tr th {\n",
       "        vertical-align: top;\n",
       "    }\n",
       "\n",
       "    .dataframe thead th {\n",
       "        text-align: right;\n",
       "    }\n",
       "</style>\n",
       "<table border=\"1\" class=\"dataframe\">\n",
       "  <thead>\n",
       "    <tr style=\"text-align: right;\">\n",
       "      <th></th>\n",
       "      <th>RidgeClassifier</th>\n",
       "      <th>LogisticRegression</th>\n",
       "      <th>LinearSVC</th>\n",
       "      <th>LGBMClassifier</th>\n",
       "      <th>ExtraTreesClassifier</th>\n",
       "      <th>RandomForestClassifier</th>\n",
       "    </tr>\n",
       "  </thead>\n",
       "  <tbody>\n",
       "    <tr>\n",
       "      <th>0</th>\n",
       "      <td>0.869920</td>\n",
       "      <td>0.847405</td>\n",
       "      <td>0.845923</td>\n",
       "      <td>0.390312</td>\n",
       "      <td>0.840015</td>\n",
       "      <td>0.842502</td>\n",
       "    </tr>\n",
       "    <tr>\n",
       "      <th>1</th>\n",
       "      <td>0.878576</td>\n",
       "      <td>0.881345</td>\n",
       "      <td>0.886340</td>\n",
       "      <td>0.187687</td>\n",
       "      <td>0.882256</td>\n",
       "      <td>0.885107</td>\n",
       "    </tr>\n",
       "    <tr>\n",
       "      <th>2</th>\n",
       "      <td>0.881503</td>\n",
       "      <td>0.879866</td>\n",
       "      <td>0.888177</td>\n",
       "      <td>0.248019</td>\n",
       "      <td>0.883328</td>\n",
       "      <td>0.884705</td>\n",
       "    </tr>\n",
       "    <tr>\n",
       "      <th>3</th>\n",
       "      <td>0.869232</td>\n",
       "      <td>0.867998</td>\n",
       "      <td>0.874941</td>\n",
       "      <td>0.509216</td>\n",
       "      <td>0.870020</td>\n",
       "      <td>0.870272</td>\n",
       "    </tr>\n",
       "    <tr>\n",
       "      <th>4</th>\n",
       "      <td>0.861603</td>\n",
       "      <td>0.860589</td>\n",
       "      <td>0.870212</td>\n",
       "      <td>0.428183</td>\n",
       "      <td>0.863716</td>\n",
       "      <td>0.864790</td>\n",
       "    </tr>\n",
       "  </tbody>\n",
       "</table>\n",
       "</div>"
      ],
      "text/plain": [
       "   RidgeClassifier  LogisticRegression  LinearSVC  LGBMClassifier  \\\n",
       "0         0.869920            0.847405   0.845923        0.390312   \n",
       "1         0.878576            0.881345   0.886340        0.187687   \n",
       "2         0.881503            0.879866   0.888177        0.248019   \n",
       "3         0.869232            0.867998   0.874941        0.509216   \n",
       "4         0.861603            0.860589   0.870212        0.428183   \n",
       "\n",
       "   ExtraTreesClassifier  RandomForestClassifier  \n",
       "0              0.840015                0.842502  \n",
       "1              0.882256                0.885107  \n",
       "2              0.883328                0.884705  \n",
       "3              0.870020                0.870272  \n",
       "4              0.863716                0.864790  "
      ]
     },
     "execution_count": 13,
     "metadata": {},
     "output_type": "execute_result"
    }
   ],
   "source": [
    "models_raiting"
   ]
  },
  {
   "cell_type": "markdown",
   "id": "211a3fa3-a2e1-4f68-81c4-e7dc2383181a",
   "metadata": {},
   "source": [
    "> не все алгоритмы успели отработать, пришлось остановить вычисления, что успелось посчитаться, из того и выбираем"
   ]
  },
  {
   "cell_type": "code",
   "execution_count": 15,
   "id": "9feb23e6-c904-44fe-8147-bba586d97f5f",
   "metadata": {},
   "outputs": [
    {
     "data": {
      "text/plain": [
       "LinearSVC                 0.873119\n",
       "RidgeClassifier           0.872167\n",
       "RandomForestClassifier    0.869475\n",
       "ExtraTreesClassifier      0.867867\n",
       "LogisticRegression        0.867441\n",
       "LGBMClassifier            0.352684\n",
       "dtype: float64"
      ]
     },
     "execution_count": 15,
     "metadata": {},
     "output_type": "execute_result"
    }
   ],
   "source": [
    "models_raiting.mean().sort_values(ascending=False)"
   ]
  },
  {
   "cell_type": "markdown",
   "id": "0f0dd7a6-eccc-400d-9ee5-8914f509575a",
   "metadata": {},
   "source": [
    "> выбираем модель `LinearSVC`, т.к. она имеет наилучшее качество"
   ]
  },
  {
   "cell_type": "markdown",
   "id": "7f891cc1-1daf-4c62-a3da-1017fa251c71",
   "metadata": {},
   "source": [
    "# Провести базовый поиск гиперпараметров для отобранного решения\n",
    "Пока откладываю, т.к. необходимо заниматься приложением"
   ]
  },
  {
   "cell_type": "markdown",
   "id": "a58d7fdd-f3bd-43f7-9bbf-1fde6660eafc",
   "metadata": {},
   "source": [
    "# Обучение модели для дальнейшего использования в приложении\n",
    "На третьем фолде было лучшее качество на базовой модели, такое же разбиение и возьмём для обучения"
   ]
  },
  {
   "cell_type": "code",
   "execution_count": 20,
   "id": "12591cf9-9ab3-4b87-9b05-ce8a58f92ef7",
   "metadata": {},
   "outputs": [
    {
     "data": {
      "text/plain": [
       "<generator object _BaseKFold.split at 0x16be90040>"
      ]
     },
     "execution_count": 20,
     "metadata": {},
     "output_type": "execute_result"
    }
   ],
   "source": [
    "spliter.split(X_tfidf, df['target'])"
   ]
  },
  {
   "cell_type": "code",
   "execution_count": 24,
   "id": "70fc931f-962b-4824-8210-c073f0050042",
   "metadata": {},
   "outputs": [
    {
     "data": {
      "text/plain": [
       "(array([   847,    848,    849, ..., 156605, 156606, 156607]),\n",
       " array([     0,      1,      2, ..., 125926, 126797, 126894]))"
      ]
     },
     "execution_count": 24,
     "metadata": {},
     "output_type": "execute_result"
    }
   ],
   "source": [
    "spliter = StratifiedKFold(n_splits=5)\n",
    "train_index, test_index = next(spliter.split(X_tfidf, df['target']), 2)\n",
    "train_index, test_index"
   ]
  },
  {
   "cell_type": "code",
   "execution_count": 35,
   "id": "d7df3630-51e3-4822-b6c1-c3606199d073",
   "metadata": {},
   "outputs": [
    {
     "data": {
      "text/html": [
       "<div>\n",
       "<style scoped>\n",
       "    .dataframe tbody tr th:only-of-type {\n",
       "        vertical-align: middle;\n",
       "    }\n",
       "\n",
       "    .dataframe tbody tr th {\n",
       "        vertical-align: top;\n",
       "    }\n",
       "\n",
       "    .dataframe thead th {\n",
       "        text-align: right;\n",
       "    }\n",
       "</style>\n",
       "<table border=\"1\" class=\"dataframe\">\n",
       "  <thead>\n",
       "    <tr style=\"text-align: right;\">\n",
       "      <th></th>\n",
       "      <th>clear-description</th>\n",
       "      <th>code</th>\n",
       "      <th>description</th>\n",
       "      <th>target</th>\n",
       "    </tr>\n",
       "  </thead>\n",
       "  <tbody>\n",
       "    <tr>\n",
       "      <th>0</th>\n",
       "      <td>парацетамол таблетка ячейковый контурный карто...</td>\n",
       "      <td>9300.1</td>\n",
       "      <td>Парацетамол таблетки 500 мг 10 шт., упаковки я...</td>\n",
       "      <td>93001</td>\n",
       "    </tr>\n",
       "    <tr>\n",
       "      <th>1</th>\n",
       "      <td>перезаряжать литий ионный батарея торговый мар...</td>\n",
       "      <td>3482.2</td>\n",
       "      <td>Перезаряжаемая литий-ионная батарея торговой м...</td>\n",
       "      <td>34822</td>\n",
       "    </tr>\n",
       "    <tr>\n",
       "      <th>2</th>\n",
       "      <td>перезаряжать литий ионный батарея торговый мар...</td>\n",
       "      <td>3482.2</td>\n",
       "      <td>Перезаряжаемая литий-ионная батарея торговой м...</td>\n",
       "      <td>34822</td>\n",
       "    </tr>\n",
       "    <tr>\n",
       "      <th>3</th>\n",
       "      <td>аппарат вакуумный лазерный терапия стоматологи...</td>\n",
       "      <td>9444.4</td>\n",
       "      <td>Аппарат вакуумно-лазерной терапии стоматологич...</td>\n",
       "      <td>94444</td>\n",
       "    </tr>\n",
       "    <tr>\n",
       "      <th>4</th>\n",
       "      <td>блок оконный балконный дверной алюминиевый про...</td>\n",
       "      <td>5270.1</td>\n",
       "      <td>Блоки оконные и балконные дверные из алюминиев...</td>\n",
       "      <td>52701</td>\n",
       "    </tr>\n",
       "    <tr>\n",
       "      <th>...</th>\n",
       "      <td>...</td>\n",
       "      <td>...</td>\n",
       "      <td>...</td>\n",
       "      <td>...</td>\n",
       "    </tr>\n",
       "    <tr>\n",
       "      <th>267580</th>\n",
       "      <td>формибак жидкий кормовой смесь снижение уровен...</td>\n",
       "      <td>9750.1</td>\n",
       "      <td>Формибак жидкий - кормовая смесь для снижения ...</td>\n",
       "      <td>97501</td>\n",
       "    </tr>\n",
       "    <tr>\n",
       "      <th>267581</th>\n",
       "      <td>котелок туристический овальный объем литр корр...</td>\n",
       "      <td>1482.1</td>\n",
       "      <td>Котелки туристические овальные, объемом 1.7 ли...</td>\n",
       "      <td>14821</td>\n",
       "    </tr>\n",
       "    <tr>\n",
       "      <th>267582</th>\n",
       "      <td>посуда столовая кухонный керамический взрослый</td>\n",
       "      <td>5990.1</td>\n",
       "      <td>Посуда столовая и кухонная керамическая для вз...</td>\n",
       "      <td>59901</td>\n",
       "    </tr>\n",
       "    <tr>\n",
       "      <th>267583</th>\n",
       "      <td>выключатель вакуумный вр номинальный напряжени...</td>\n",
       "      <td>3414.8</td>\n",
       "      <td>Выключатели вакуумные серии ВР1, на номинально...</td>\n",
       "      <td>34148</td>\n",
       "    </tr>\n",
       "    <tr>\n",
       "      <th>267587</th>\n",
       "      <td>посуда алюминиевый литой кроме посуда ребенок ...</td>\n",
       "      <td>9695.1</td>\n",
       "      <td>Посуда алюминиевая литая (кроме посуды для дет...</td>\n",
       "      <td>96951</td>\n",
       "    </tr>\n",
       "  </tbody>\n",
       "</table>\n",
       "<p>156608 rows × 4 columns</p>\n",
       "</div>"
      ],
      "text/plain": [
       "                                        clear-description    code  \\\n",
       "0       парацетамол таблетка ячейковый контурный карто...  9300.1   \n",
       "1       перезаряжать литий ионный батарея торговый мар...  3482.2   \n",
       "2       перезаряжать литий ионный батарея торговый мар...  3482.2   \n",
       "3       аппарат вакуумный лазерный терапия стоматологи...  9444.4   \n",
       "4       блок оконный балконный дверной алюминиевый про...  5270.1   \n",
       "...                                                   ...     ...   \n",
       "267580  формибак жидкий кормовой смесь снижение уровен...  9750.1   \n",
       "267581  котелок туристический овальный объем литр корр...  1482.1   \n",
       "267582     посуда столовая кухонный керамический взрослый  5990.1   \n",
       "267583  выключатель вакуумный вр номинальный напряжени...  3414.8   \n",
       "267587  посуда алюминиевый литой кроме посуда ребенок ...  9695.1   \n",
       "\n",
       "                                              description  target  \n",
       "0       Парацетамол таблетки 500 мг 10 шт., упаковки я...   93001  \n",
       "1       Перезаряжаемая литий-ионная батарея торговой м...   34822  \n",
       "2       Перезаряжаемая литий-ионная батарея торговой м...   34822  \n",
       "3       Аппарат вакуумно-лазерной терапии стоматологич...   94444  \n",
       "4       Блоки оконные и балконные дверные из алюминиев...   52701  \n",
       "...                                                   ...     ...  \n",
       "267580  Формибак жидкий - кормовая смесь для снижения ...   97501  \n",
       "267581  Котелки туристические овальные, объемом 1.7 ли...   14821  \n",
       "267582  Посуда столовая и кухонная керамическая для вз...   59901  \n",
       "267583  Выключатели вакуумные серии ВР1, на номинально...   34148  \n",
       "267587  Посуда алюминиевая литая (кроме посуды для дет...   96951  \n",
       "\n",
       "[156608 rows x 4 columns]"
      ]
     },
     "execution_count": 35,
     "metadata": {},
     "output_type": "execute_result"
    }
   ],
   "source": [
    "df"
   ]
  },
  {
   "cell_type": "code",
   "execution_count": 43,
   "id": "6be07bba-6a59-4c1c-9a71-ac82131f259f",
   "metadata": {},
   "outputs": [
    {
     "data": {
      "text/plain": [
       "1509      93851\n",
       "1512      93851\n",
       "1513      93851\n",
       "1515      93851\n",
       "1516      93851\n",
       "          ...  \n",
       "267580    97501\n",
       "267581    14821\n",
       "267582    59901\n",
       "267583    34148\n",
       "267587    96951\n",
       "Name: target, Length: 125286, dtype: int64"
      ]
     },
     "execution_count": 43,
     "metadata": {},
     "output_type": "execute_result"
    }
   ],
   "source": [
    "df.iloc[train_index, :]['target']"
   ]
  },
  {
   "cell_type": "code",
   "execution_count": 45,
   "id": "317bbf60-a346-4721-a8c3-39821d2c8604",
   "metadata": {},
   "outputs": [
    {
     "data": {
      "text/plain": [
       "LinearSVC()"
      ]
     },
     "execution_count": 45,
     "metadata": {},
     "output_type": "execute_result"
    }
   ],
   "source": [
    "prod_model = LinearSVC()\n",
    "\n",
    "prod_model.fit(X_tfidf[train_index].toarray(), df.iloc[train_index, :]['target'])"
   ]
  },
  {
   "cell_type": "code",
   "execution_count": 46,
   "id": "167d4538-38c5-4951-bbc5-40fd5cb3013a",
   "metadata": {},
   "outputs": [],
   "source": [
    "with open('models/LinearSVC.pkl', 'wb') as f:\n",
    "    pickle.dump(prod_model, f)"
   ]
  },
  {
   "cell_type": "markdown",
   "id": "53e1083e-a2df-4d1f-aa36-d8cf196e4aa4",
   "metadata": {},
   "source": [
    "> модель обучена и готава к интегарции в приложение"
   ]
  },
  {
   "cell_type": "code",
   "execution_count": 48,
   "id": "f0b80ce5-402d-4f6e-a136-60b581263690",
   "metadata": {},
   "outputs": [
    {
     "data": {
      "text/plain": [
       "array(['arj', 'castto', 'dallo', ..., 'ящичный', 'ящур', 'іі'],\n",
       "      dtype=object)"
      ]
     },
     "execution_count": 48,
     "metadata": {},
     "output_type": "execute_result"
    }
   ],
   "source": [
    "with open('data/tfidf.pkl', 'rb') as f:\n",
    "    tfidf = pickle.load(f)\n",
    "tfidf.get_feature_names_out()"
   ]
  },
  {
   "cell_type": "markdown",
   "id": "bb33c8a6-5f1b-4ecc-959c-f332a142f86c",
   "metadata": {},
   "source": [
    "> видно, что можно улучшать предобработку текстов, чтобы исключить ненужные слова, это может повысить качество"
   ]
  },
  {
   "cell_type": "code",
   "execution_count": 2,
   "id": "8ab64d27-424b-42bf-b937-5c8f3ddd5046",
   "metadata": {},
   "outputs": [],
   "source": [
    "!conda list -e > requirements_conda.txt"
   ]
  },
  {
   "cell_type": "code",
   "execution_count": 3,
   "id": "12c41eb1-9639-43ae-abf1-86eba9a51d3f",
   "metadata": {},
   "outputs": [],
   "source": [
    "!pip freeze > requirements_pip.txt"
   ]
  },
  {
   "cell_type": "code",
   "execution_count": null,
   "id": "7e27544f-1208-4aed-a860-d63bc6f60f07",
   "metadata": {},
   "outputs": [],
   "source": []
  }
 ],
 "metadata": {
  "kernelspec": {
   "display_name": "Python 3.9.7 64-bit ('base': conda)",
   "language": "python",
   "name": "python397jvsc74a57bd0c6e4e9f98eb68ad3b7c296f83d20e6de614cb42e90992a65aa266555a3137d0d"
  },
  "language_info": {
   "codemirror_mode": {
    "name": "ipython",
    "version": 3
   },
   "file_extension": ".py",
   "mimetype": "text/x-python",
   "name": "python",
   "nbconvert_exporter": "python",
   "pygments_lexer": "ipython3",
   "version": "3.9.7"
  }
 },
 "nbformat": 4,
 "nbformat_minor": 5
}
