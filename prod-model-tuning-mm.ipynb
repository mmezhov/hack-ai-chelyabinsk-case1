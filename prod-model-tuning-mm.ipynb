{
 "cells": [
  {
   "cell_type": "markdown",
   "id": "38488def-04a3-43f5-aead-137a3cd660e4",
   "metadata": {},
   "source": [
    "Поиск лучших гиперпараметров для модели, выбранной для продуктива"
   ]
  },
  {
   "cell_type": "markdown",
   "id": "42294202-755b-4c04-aa13-66b5e70da58f",
   "metadata": {},
   "source": [
    "# Libs"
   ]
  },
  {
   "cell_type": "code",
   "execution_count": 4,
   "id": "a25b6a97-ad3e-423f-97a7-9d98b1c06605",
   "metadata": {},
   "outputs": [],
   "source": [
    "import pandas as pd\n",
    "import matplotlib.pyplot as plt\n",
    "import numpy as np\n",
    "import pickle \n",
    "\n",
    "from sklearn.model_selection import cross_val_score, StratifiedKFold, RandomizedSearchCV\n",
    "from sklearn.metrics import f1_score\n",
    "from tqdm import tqdm\n",
    "from scipy.stats import uniform\n",
    "\n",
    "from sklearn.svm import LinearSVC"
   ]
  },
  {
   "cell_type": "code",
   "execution_count": 10,
   "id": "edbe95b0-e938-4b93-a22f-a20f835b982e",
   "metadata": {},
   "outputs": [],
   "source": [
    "with open('data/X_tfidf.pkl', 'rb') as f:\n",
    "    X_tfidf = pickle.load(f)\n",
    "with open('data/prod_df.pkl', 'rb') as f:\n",
    "    df = pickle.load(f)"
   ]
  },
  {
   "cell_type": "code",
   "execution_count": 11,
   "id": "86647cd3-e3c4-4263-9952-7870c0906992",
   "metadata": {},
   "outputs": [
    {
     "data": {
      "text/plain": [
       "({'C': 2.375412200349123}, 0.8701788136015258)"
      ]
     },
     "execution_count": 11,
     "metadata": {},
     "output_type": "execute_result"
    }
   ],
   "source": [
    "params = {\n",
    "      'C': uniform(loc=0, scale=10)\n",
    "}\n",
    "clf = RandomizedSearchCV(LinearSVC(), params, random_state=13, scoring='f1_weighted', n_jobs=-1, cv=5)\n",
    "search = clf.fit(X_tfidf, df.target)\n",
    "search.best_params_, search.best_score_"
   ]
  },
  {
   "cell_type": "markdown",
   "id": "5f49da70-381c-4c91-b9dd-f8beb70467be",
   "metadata": {},
   "source": [
    "> метрика не улучшилась"
   ]
  },
  {
   "cell_type": "code",
   "execution_count": null,
   "id": "07ecfffd-2aa1-4cdd-9c4b-922f91b0ce2b",
   "metadata": {},
   "outputs": [],
   "source": []
  }
 ],
 "metadata": {
  "kernelspec": {
   "display_name": "Python 3.9.7 64-bit ('base': conda)",
   "language": "python",
   "name": "python397jvsc74a57bd0c6e4e9f98eb68ad3b7c296f83d20e6de614cb42e90992a65aa266555a3137d0d"
  },
  "language_info": {
   "codemirror_mode": {
    "name": "ipython",
    "version": 3
   },
   "file_extension": ".py",
   "mimetype": "text/x-python",
   "name": "python",
   "nbconvert_exporter": "python",
   "pygments_lexer": "ipython3",
   "version": "3.9.7"
  }
 },
 "nbformat": 4,
 "nbformat_minor": 5
}
