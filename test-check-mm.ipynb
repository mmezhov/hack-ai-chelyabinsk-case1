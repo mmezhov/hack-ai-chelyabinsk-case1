{
 "cells": [
  {
   "cell_type": "code",
   "execution_count": 1,
   "id": "82f58f6d-3f24-48a5-b90a-4df6ee9afab3",
   "metadata": {},
   "outputs": [],
   "source": [
    "import yaml\n",
    "import os\n",
    "import pickle\n",
    "\n",
    "import pandas as pd\n",
    "import numpy as np\n",
    "import nltk\n",
    "import re\n",
    "\n",
    "from nltk.corpus import stopwords\n",
    "from pymystem3 import Mystem\n",
    "from string import punctuation"
   ]
  },
  {
   "cell_type": "code",
   "execution_count": 12,
   "id": "29356ed5-dfc7-48fd-b126-b51328e85801",
   "metadata": {},
   "outputs": [],
   "source": [
    "from sklearn.metrics import f1_score"
   ]
  },
  {
   "cell_type": "code",
   "execution_count": 2,
   "id": "05a90eb3-f2ad-4a4f-a91b-e9275f6996e8",
   "metadata": {},
   "outputs": [],
   "source": [
    "def preprocess_text(text):\n",
    "    \"\"\"\n",
    "    Очистка и лемматизация текста\n",
    "    Присутствует специфика данных\n",
    "    \"\"\"\n",
    "    tokens = mystem.lemmatize(text.lower())\n",
    "    \n",
    "    text = [re.sub('[0-9][а-я]|\\d+', '*', token) for token in tokens if (token.strip() not in russian_stopwords) & \\\n",
    "            (token.strip() not in eng_stopwords) & \\\n",
    "            (token.strip() not in punctuation) & \\\n",
    "            (token.strip() not in numbers) & \\\n",
    "            (token.strip() not in custom_top_words) & \\\n",
    "            # (token.strip() not in terms_to_delete) & \\\n",
    "            (token != ' ')]\n",
    "    if '*' in text:\n",
    "        text.remove('*')\n",
    "        \n",
    "    text = ' '.join(text)\n",
    "    \n",
    "    text = text.replace('*', '')\n",
    "    text = text.replace('®', '')\n",
    "    text = text.replace('№', '')\n",
    "    text = text.replace(')', '')\n",
    "    text = text.replace('(', '')\n",
    "    text = text.replace('.', '')\n",
    "    text = text.replace('\"', '')\n",
    "    text = text.replace('\\n', '')\n",
    "    text = text.replace('«', '')\n",
    "    text = text.replace('»', '')\n",
    "    text = text.replace(',,', '')\n",
    "    text = text.replace(',', '')\n",
    "    text = text.replace('окпд', '')\n",
    "    text = text.replace('ooo', '')  # eng\n",
    "    text = text.replace('ооо', '')  # rus\n",
    "    text = text.split(' ')\n",
    "    text = ' '.join([x for x in text if x not in ['']])\n",
    "    \n",
    "    # try:\n",
    "    #     regex_str = [r\"рег. №\", \"рег №\", 'серия', \"ру №\", \"лср-\", \"лп-\", \"P N\".lower()]\n",
    "    #     res = re.search(\"|\".join(regex_str), text).start()\n",
    "    #     text = text[:res]\n",
    "    # except:\n",
    "    #     pass\n",
    "    \n",
    "    return text"
   ]
  },
  {
   "cell_type": "markdown",
   "id": "7b75c6cd-7e72-43c0-9838-c29b52db4a3f",
   "metadata": {},
   "source": [
    "# 3 test"
   ]
  },
  {
   "cell_type": "code",
   "execution_count": 22,
   "id": "18cfe69f-8afe-457f-b6db-3cd4bdf0b8f5",
   "metadata": {},
   "outputs": [
    {
     "data": {
      "text/html": [
       "<div>\n",
       "<style scoped>\n",
       "    .dataframe tbody tr th:only-of-type {\n",
       "        vertical-align: middle;\n",
       "    }\n",
       "\n",
       "    .dataframe tbody tr th {\n",
       "        vertical-align: top;\n",
       "    }\n",
       "\n",
       "    .dataframe thead th {\n",
       "        text-align: right;\n",
       "    }\n",
       "</style>\n",
       "<table border=\"1\" class=\"dataframe\">\n",
       "  <thead>\n",
       "    <tr style=\"text-align: right;\">\n",
       "      <th></th>\n",
       "      <th>id</th>\n",
       "      <th>Общее наименование продукции</th>\n",
       "      <th>Раздел ЕП РФ (Код из ФГИС ФСА для подкатегории продукции)</th>\n",
       "      <th>Подкатегория продукции</th>\n",
       "    </tr>\n",
       "  </thead>\n",
       "  <tbody>\n",
       "    <tr>\n",
       "      <th>0</th>\n",
       "      <td>140000</td>\n",
       "      <td>смеси бетонные</td>\n",
       "      <td>2364.1</td>\n",
       "      <td>Смеси строительные</td>\n",
       "    </tr>\n",
       "    <tr>\n",
       "      <th>1</th>\n",
       "      <td>140001</td>\n",
       "      <td>ветеринарный препарат</td>\n",
       "      <td>9300.2</td>\n",
       "      <td>Препараты и средства химико-фармацевтические д...</td>\n",
       "    </tr>\n",
       "    <tr>\n",
       "      <th>2</th>\n",
       "      <td>140002</td>\n",
       "      <td>Вибуркол, суппозитории ректальные гомеопатичес...</td>\n",
       "      <td>9300.1</td>\n",
       "      <td>Лекарственные средства, зарегистрированные в у...</td>\n",
       "    </tr>\n",
       "    <tr>\n",
       "      <th>3</th>\n",
       "      <td>140003</td>\n",
       "      <td>Неозим Prot-A 200 (Neozim Prot-А 200) – кормов...</td>\n",
       "      <td>9750.1</td>\n",
       "      <td>Комбикорма и премиксы</td>\n",
       "    </tr>\n",
       "    <tr>\n",
       "      <th>4</th>\n",
       "      <td>140004</td>\n",
       "      <td>Вибуркол, суппозитории ректальные гомеопатичес...</td>\n",
       "      <td>9300.1</td>\n",
       "      <td>Лекарственные средства, зарегистрированные в у...</td>\n",
       "    </tr>\n",
       "  </tbody>\n",
       "</table>\n",
       "</div>"
      ],
      "text/plain": [
       "       id                       Общее наименование продукции  \\\n",
       "0  140000                                     смеси бетонные   \n",
       "1  140001                              ветеринарный препарат   \n",
       "2  140002  Вибуркол, суппозитории ректальные гомеопатичес...   \n",
       "3  140003  Неозим Prot-A 200 (Neozim Prot-А 200) – кормов...   \n",
       "4  140004  Вибуркол, суппозитории ректальные гомеопатичес...   \n",
       "\n",
       "  Раздел ЕП РФ (Код из ФГИС ФСА для подкатегории продукции)  \\\n",
       "0                                             2364.1          \n",
       "1                                             9300.2          \n",
       "2                                             9300.1          \n",
       "3                                             9750.1          \n",
       "4                                             9300.1          \n",
       "\n",
       "                              Подкатегория продукции  \n",
       "0                                 Смеси строительные  \n",
       "1  Препараты и средства химико-фармацевтические д...  \n",
       "2  Лекарственные средства, зарегистрированные в у...  \n",
       "3                             Комбикорма и премиксы   \n",
       "4  Лекарственные средства, зарегистрированные в у...  "
      ]
     },
     "execution_count": 22,
     "metadata": {},
     "output_type": "execute_result"
    }
   ],
   "source": [
    "data = pd.read_excel('data/raw/3test.xlsx', engine='openpyxl')\n",
    "data.head()"
   ]
  },
  {
   "cell_type": "code",
   "execution_count": 4,
   "id": "7750d810-08d9-453d-a136-c87e7a510dee",
   "metadata": {},
   "outputs": [],
   "source": [
    "codes = pd.read_csv('data/code-info.csv', index_col='code')\n",
    "code_dict = dict()\n",
    "for el in codes.iterrows():\n",
    "    code_dict[el[0]] = el[1][0]"
   ]
  },
  {
   "cell_type": "code",
   "execution_count": 5,
   "id": "592dbd53-11cf-4aa9-b3a6-203094c6245d",
   "metadata": {},
   "outputs": [
    {
     "name": "stderr",
     "output_type": "stream",
     "text": [
      "[nltk_data] Downloading package stopwords to\n",
      "[nltk_data]     /Users/maximmezhov/nltk_data...\n",
      "[nltk_data]   Package stopwords is already up-to-date!\n"
     ]
    }
   ],
   "source": [
    "with open(os.getcwd() + '/app-config.yaml') as f:\n",
    "    config = yaml.safe_load(f)\n",
    "    \n",
    "nltk.download('stopwords')\n",
    "mystem = Mystem()  # инициализируем для последующего исползования\n",
    "\n",
    "russian_stopwords = stopwords.words(\"russian\")\n",
    "eng_stopwords = stopwords.words(\"english\")\n",
    "symbols = punctuation + '№'\n",
    "punctuation += '№'\n",
    "punctuation += '®'\n",
    "\n",
    "custom_top_words = ['мл','мг','шт','ooo','ру','лп','н','xch','bky','уп','%','п','изм','нд','p','р','n','\\n','b','e','е','г','упаковка','пачка','серия','партия','рег','лср',\n",
    "                    'pul',':','инвойс','rus','вэд','+','rg','g','ltd','d','c','д','кг','-','tyd','дата','оао','ао','зао','ип','инн','лс','код','окпд','россия','ул','область']\n",
    "numbers = [i for i in range(10)]\n",
    "numbers = list(map(str, numbers))"
   ]
  },
  {
   "cell_type": "code",
   "execution_count": 6,
   "id": "dbc49095-3206-4870-b668-5889651d231c",
   "metadata": {},
   "outputs": [],
   "source": [
    "with open(config['vectorizer'], 'rb') as f:\n",
    "    vectorizer = pickle.load(f)\n",
    "    \n",
    "with open(config['model'], 'rb') as f:\n",
    "    model = pickle.load(f)"
   ]
  },
  {
   "cell_type": "code",
   "execution_count": 23,
   "id": "5e5e74e8-341b-478a-b758-6e8ae1d3fea4",
   "metadata": {},
   "outputs": [
    {
     "name": "stdout",
     "output_type": "stream",
     "text": [
      "CPU times: user 15.6 s, sys: 344 ms, total: 15.9 s\n",
      "Wall time: 37.8 s\n"
     ]
    }
   ],
   "source": [
    "%%time\n",
    "df = pd.DataFrame()\n",
    "    \n",
    "df['Наименование продукции'] = data[data.columns[1]]\n",
    "df['precessed-text'] = data[data.columns[1]].apply(preprocess_text)"
   ]
  },
  {
   "cell_type": "code",
   "execution_count": 24,
   "id": "80b88aaa-935b-4aa7-87b1-97ed92a8a43e",
   "metadata": {},
   "outputs": [
    {
     "name": "stdout",
     "output_type": "stream",
     "text": [
      "CPU times: user 433 ms, sys: 10.9 ms, total: 444 ms\n",
      "Wall time: 443 ms\n"
     ]
    }
   ],
   "source": [
    "%%time\n",
    "X = vectorizer.transform(df['precessed-text'])\n",
    "code = model.predict(X)\n",
    "df['Код (определён автоматически)'] = (code/10).round(1)\n",
    "df['Код (определён автоматически)'] = df['Код (определён автоматически)'].astype('str')\n",
    "df['code'] = code\n",
    "df.code = df.code.astype(int)\n",
    "df['Подкатегория продукции'] = df['code'].map(code_dict)"
   ]
  },
  {
   "cell_type": "code",
   "execution_count": 25,
   "id": "60caef30-25bf-49fe-bdda-1aa9362e5aca",
   "metadata": {},
   "outputs": [
    {
     "data": {
      "text/plain": [
       "0.9468498969389704"
      ]
     },
     "execution_count": 25,
     "metadata": {},
     "output_type": "execute_result"
    }
   ],
   "source": [
    "f1_score(data[data.columns[2]].astype('str'), df['Код (определён автоматически)'], average='weighted')"
   ]
  },
  {
   "cell_type": "code",
   "execution_count": 9,
   "id": "0bfbf1c6-d8c3-48ff-b606-ff2beae726ea",
   "metadata": {},
   "outputs": [
    {
     "data": {
      "text/html": [
       "<div>\n",
       "<style scoped>\n",
       "    .dataframe tbody tr th:only-of-type {\n",
       "        vertical-align: middle;\n",
       "    }\n",
       "\n",
       "    .dataframe tbody tr th {\n",
       "        vertical-align: top;\n",
       "    }\n",
       "\n",
       "    .dataframe thead th {\n",
       "        text-align: right;\n",
       "    }\n",
       "</style>\n",
       "<table border=\"1\" class=\"dataframe\">\n",
       "  <thead>\n",
       "    <tr style=\"text-align: right;\">\n",
       "      <th></th>\n",
       "      <th>Наименование продукции</th>\n",
       "      <th>precessed-text</th>\n",
       "      <th>Код (определён автоматически)</th>\n",
       "      <th>code</th>\n",
       "      <th>Подкатегория продукции</th>\n",
       "    </tr>\n",
       "  </thead>\n",
       "  <tbody>\n",
       "    <tr>\n",
       "      <th>0</th>\n",
       "      <td>смеси бетонные</td>\n",
       "      <td>смесь бетонный</td>\n",
       "      <td>2364.1</td>\n",
       "      <td>23641</td>\n",
       "      <td>Смеси строительные</td>\n",
       "    </tr>\n",
       "    <tr>\n",
       "      <th>1</th>\n",
       "      <td>ветеринарный препарат</td>\n",
       "      <td>ветеринарный препарат</td>\n",
       "      <td>9300.2</td>\n",
       "      <td>93002</td>\n",
       "      <td>Препараты и средства химико-фармацевтические д...</td>\n",
       "    </tr>\n",
       "    <tr>\n",
       "      <th>2</th>\n",
       "      <td>Вибуркол, суппозитории ректальные гомеопатичес...</td>\n",
       "      <td>вибуркол суппозиторий ректальный гомеопатическ...</td>\n",
       "      <td>9300.1</td>\n",
       "      <td>93001</td>\n",
       "      <td>Лекарственные средства, зарегистрированные в у...</td>\n",
       "    </tr>\n",
       "    <tr>\n",
       "      <th>3</th>\n",
       "      <td>Неозим Prot-A 200 (Neozim Prot-А 200) – кормов...</td>\n",
       "      <td>неозим prot neozim prot – кормовой добавка пов...</td>\n",
       "      <td>9750.1</td>\n",
       "      <td>97501</td>\n",
       "      <td>Комбикорма и премиксы</td>\n",
       "    </tr>\n",
       "    <tr>\n",
       "      <th>4</th>\n",
       "      <td>Вибуркол, суппозитории ректальные гомеопатичес...</td>\n",
       "      <td>вибуркол суппозиторий ректальный гомеопатическ...</td>\n",
       "      <td>9300.1</td>\n",
       "      <td>93001</td>\n",
       "      <td>Лекарственные средства, зарегистрированные в у...</td>\n",
       "    </tr>\n",
       "    <tr>\n",
       "      <th>...</th>\n",
       "      <td>...</td>\n",
       "      <td>...</td>\n",
       "      <td>...</td>\n",
       "      <td>...</td>\n",
       "      <td>...</td>\n",
       "    </tr>\n",
       "    <tr>\n",
       "      <th>59995</th>\n",
       "      <td>Видеогастроскопы \"ПЕНТАКС\" \"EG\" c принадлежнос...</td>\n",
       "      <td>видеогастроскоп пентакса eg принадлежность</td>\n",
       "      <td>9442.3</td>\n",
       "      <td>94423</td>\n",
       "      <td>Приборы эндоскопические и увеличительные</td>\n",
       "    </tr>\n",
       "    <tr>\n",
       "      <th>59996</th>\n",
       "      <td>Рибоксин раствор для внутривенного введения 20...</td>\n",
       "      <td>рибоксин раствор внутривенный введение ампула ...</td>\n",
       "      <td>9300.1</td>\n",
       "      <td>93001</td>\n",
       "      <td>Лекарственные средства, зарегистрированные в у...</td>\n",
       "    </tr>\n",
       "    <tr>\n",
       "      <th>59997</th>\n",
       "      <td>Анастрозол, таблетки покрытые пленочной оболоч...</td>\n",
       "      <td>анастрозол таблетка покрывать пленочный оболоч...</td>\n",
       "      <td>9300.1</td>\n",
       "      <td>93001</td>\n",
       "      <td>Лекарственные средства, зарегистрированные в у...</td>\n",
       "    </tr>\n",
       "    <tr>\n",
       "      <th>59998</th>\n",
       "      <td>Стеклопакеты клееные строительного назначения,</td>\n",
       "      <td>стеклопакет клееный строительный назначение</td>\n",
       "      <td>5913.1</td>\n",
       "      <td>59131</td>\n",
       "      <td>Стеклопакеты</td>\n",
       "    </tr>\n",
       "    <tr>\n",
       "      <th>59999</th>\n",
       "      <td>Валериана, таблетки покрытые пленочной оболочк...</td>\n",
       "      <td>валериана таблетка покрывать пленочный оболочк...</td>\n",
       "      <td>9300.1</td>\n",
       "      <td>93001</td>\n",
       "      <td>Лекарственные средства, зарегистрированные в у...</td>\n",
       "    </tr>\n",
       "  </tbody>\n",
       "</table>\n",
       "<p>60000 rows × 5 columns</p>\n",
       "</div>"
      ],
      "text/plain": [
       "                                  Наименование продукции  \\\n",
       "0                                         смеси бетонные   \n",
       "1                                  ветеринарный препарат   \n",
       "2      Вибуркол, суппозитории ректальные гомеопатичес...   \n",
       "3      Неозим Prot-A 200 (Neozim Prot-А 200) – кормов...   \n",
       "4      Вибуркол, суппозитории ректальные гомеопатичес...   \n",
       "...                                                  ...   \n",
       "59995  Видеогастроскопы \"ПЕНТАКС\" \"EG\" c принадлежнос...   \n",
       "59996  Рибоксин раствор для внутривенного введения 20...   \n",
       "59997  Анастрозол, таблетки покрытые пленочной оболоч...   \n",
       "59998    Стеклопакеты клееные строительного назначения,    \n",
       "59999  Валериана, таблетки покрытые пленочной оболочк...   \n",
       "\n",
       "                                          precessed-text  \\\n",
       "0                                         смесь бетонный   \n",
       "1                                  ветеринарный препарат   \n",
       "2      вибуркол суппозиторий ректальный гомеопатическ...   \n",
       "3      неозим prot neozim prot – кормовой добавка пов...   \n",
       "4      вибуркол суппозиторий ректальный гомеопатическ...   \n",
       "...                                                  ...   \n",
       "59995         видеогастроскоп пентакса eg принадлежность   \n",
       "59996  рибоксин раствор внутривенный введение ампула ...   \n",
       "59997  анастрозол таблетка покрывать пленочный оболоч...   \n",
       "59998        стеклопакет клееный строительный назначение   \n",
       "59999  валериана таблетка покрывать пленочный оболочк...   \n",
       "\n",
       "      Код (определён автоматически)   code  \\\n",
       "0                            2364.1  23641   \n",
       "1                            9300.2  93002   \n",
       "2                            9300.1  93001   \n",
       "3                            9750.1  97501   \n",
       "4                            9300.1  93001   \n",
       "...                             ...    ...   \n",
       "59995                        9442.3  94423   \n",
       "59996                        9300.1  93001   \n",
       "59997                        9300.1  93001   \n",
       "59998                        5913.1  59131   \n",
       "59999                        9300.1  93001   \n",
       "\n",
       "                                  Подкатегория продукции  \n",
       "0                                     Смеси строительные  \n",
       "1      Препараты и средства химико-фармацевтические д...  \n",
       "2      Лекарственные средства, зарегистрированные в у...  \n",
       "3                                 Комбикорма и премиксы   \n",
       "4      Лекарственные средства, зарегистрированные в у...  \n",
       "...                                                  ...  \n",
       "59995           Приборы эндоскопические и увеличительные  \n",
       "59996  Лекарственные средства, зарегистрированные в у...  \n",
       "59997  Лекарственные средства, зарегистрированные в у...  \n",
       "59998                                       Стеклопакеты  \n",
       "59999  Лекарственные средства, зарегистрированные в у...  \n",
       "\n",
       "[60000 rows x 5 columns]"
      ]
     },
     "execution_count": 9,
     "metadata": {},
     "output_type": "execute_result"
    }
   ],
   "source": [
    "df"
   ]
  },
  {
   "cell_type": "code",
   "execution_count": 18,
   "id": "91a07e57-8eac-4e86-a133-97e274806158",
   "metadata": {},
   "outputs": [],
   "source": [
    "df[['Наименование продукции','Код (определён автоматически)','Подкатегория продукции']].to_csv('Результат анализа кодов по описанию продукции.csv')"
   ]
  },
  {
   "cell_type": "markdown",
   "id": "35dd9595-1d87-435a-b6da-b93c43d44013",
   "metadata": {},
   "source": [
    "# 1, 2 test\n",
    "time check only"
   ]
  },
  {
   "cell_type": "code",
   "execution_count": 20,
   "id": "f39cadb5-b2fd-4928-8a90-f308c6d5a2a1",
   "metadata": {},
   "outputs": [
    {
     "name": "stdout",
     "output_type": "stream",
     "text": [
      "CPU times: user 1.29 s, sys: 28 ms, total: 1.32 s\n",
      "Wall time: 3.92 s\n"
     ]
    }
   ],
   "source": [
    "%%time\n",
    "data = pd.read_excel('data/raw/2test.xlsx', engine='openpyxl')\n",
    "df = pd.DataFrame() \n",
    "df['Наименование продукции'] = data[data.columns[1]]\n",
    "df['precessed-text'] = data[data.columns[1]].apply(preprocess_text)\n",
    "X = vectorizer.transform(df['precessed-text'])\n",
    "code = model.predict(X)\n",
    "df['Код (определён автоматически)'] = (code/10).round(1)\n",
    "df['Код (определён автоматически)'] = df['Код (определён автоматически)'].astype('str')\n",
    "df['code'] = code\n",
    "df.code = df.code.astype(int)\n",
    "df['Подкатегория продукции'] = df['code'].map(code_dict)"
   ]
  },
  {
   "cell_type": "code",
   "execution_count": 21,
   "id": "f38e8d1c-b8ee-4b07-9181-f26871c0b87e",
   "metadata": {},
   "outputs": [
    {
     "data": {
      "text/plain": [
       "0.8462352760699264"
      ]
     },
     "execution_count": 21,
     "metadata": {},
     "output_type": "execute_result"
    }
   ],
   "source": [
    "f1_score(data[data.columns[2]].astype('str'), df['Код (определён автоматически)'], average='weighted')"
   ]
  },
  {
   "cell_type": "code",
   "execution_count": 11,
   "id": "969cd151-bd11-4f41-8bc3-0988daeb3994",
   "metadata": {},
   "outputs": [
    {
     "name": "stdout",
     "output_type": "stream",
     "text": [
      "CPU times: user 39.6 ms, sys: 2.99 ms, total: 42.6 ms\n",
      "Wall time: 61.6 ms\n"
     ]
    }
   ],
   "source": [
    "%%time\n",
    "data = pd.read_excel('data/raw/1test.xlsx', engine='openpyxl')\n",
    "df = pd.DataFrame() \n",
    "df['Наименование продукции'] = data[data.columns[1]]\n",
    "df['precessed-text'] = data[data.columns[1]].apply(preprocess_text)\n",
    "X = vectorizer.transform(df['precessed-text'])\n",
    "code = model.predict(X)\n",
    "df['Код (определён автоматически)'] = (code/10).round(1)\n",
    "df['Код (определён автоматически)'] = df['Код (определён автоматически)'].astype('str')\n",
    "df['code'] = code\n",
    "df.code = df.code.astype(int)\n",
    "df['Подкатегория продукции'] = df['code'].map(code_dict)"
   ]
  },
  {
   "cell_type": "code",
   "execution_count": 19,
   "id": "a6b0daa7-6801-45f6-9ee5-94d58ca58c50",
   "metadata": {},
   "outputs": [
    {
     "data": {
      "text/plain": [
       "0.4666666666666667"
      ]
     },
     "execution_count": 19,
     "metadata": {},
     "output_type": "execute_result"
    }
   ],
   "source": [
    "f1_score(data[data.columns[2]].astype('str'), df['Код (определён автоматически)'], average='weighted')"
   ]
  },
  {
   "cell_type": "code",
   "execution_count": null,
   "id": "0f8cd395-a041-44fb-a532-0133dc579c6a",
   "metadata": {},
   "outputs": [],
   "source": []
  }
 ],
 "metadata": {
  "kernelspec": {
   "display_name": "Python 3.9.7 64-bit ('base': conda)",
   "language": "python",
   "name": "python397jvsc74a57bd0c6e4e9f98eb68ad3b7c296f83d20e6de614cb42e90992a65aa266555a3137d0d"
  },
  "language_info": {
   "codemirror_mode": {
    "name": "ipython",
    "version": 3
   },
   "file_extension": ".py",
   "mimetype": "text/x-python",
   "name": "python",
   "nbconvert_exporter": "python",
   "pygments_lexer": "ipython3",
   "version": "3.9.7"
  }
 },
 "nbformat": 4,
 "nbformat_minor": 5
}
